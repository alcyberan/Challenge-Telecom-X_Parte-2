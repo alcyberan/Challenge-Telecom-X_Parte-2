{
  "cells": [
    {
      "cell_type": "markdown",
      "metadata": {
        "id": "zn8SOJ8LhRPL"
      },
      "source": [
        "# Bibliotecas\n",
        "\n",
        "\n",
        "---\n",
        "\n"
      ]
    },
    {
      "cell_type": "code",
      "execution_count": 44,
      "metadata": {
        "id": "b_ubIqFTWCx_"
      },
      "outputs": [],
      "source": [
        "from sklearn.preprocessing import OneHotEncoder, LabelEncoder, StandardScaler\n",
        "from sklearn.metrics import ConfusionMatrixDisplay, classification_report, roc_auc_score\n",
        "from sklearn.tree import DecisionTreeClassifier\n",
        "from sklearn.model_selection import train_test_split, StratifiedKFold, GridSearchCV, cross_validate\n",
        "from sklearn.compose import make_column_transformer\n",
        "from sklearn.linear_model import LogisticRegression\n",
        "from sklearn.dummy import DummyClassifier\n",
        "\n",
        "from yellowbrick.model_selection import FeatureImportances\n",
        "\n",
        "from imblearn.pipeline import Pipeline as imbpipeline\n",
        "from imblearn.under_sampling import NearMiss\n",
        "\n",
        "import matplotlib.pyplot as plt\n",
        "import plotly.express as px\n",
        "import pandas as pd\n",
        "import numpy as np"
      ]
    },
    {
      "cell_type": "markdown",
      "metadata": {
        "id": "AwWPy79ljpfH"
      },
      "source": [
        "# Extração\n",
        "\n",
        "\n",
        "---\n",
        "\n"
      ]
    },
    {
      "cell_type": "code",
      "execution_count": null,
      "metadata": {
        "id": "dsmDkVRaQnvm"
      },
      "outputs": [],
      "source": [
        "url = 'data\\TelecomX_Data_Limpo.csv'\n",
        "\n",
        "df = pd.read_csv(url, sep=';')"
      ]
    },
    {
      "cell_type": "code",
      "execution_count": 47,
      "metadata": {
        "colab": {
          "base_uri": "https://localhost:8080/",
          "height": 617
        },
        "id": "2wo_OFs4WgVI",
        "outputId": "14bc7617-71bc-446e-9f00-a4e6a52afc7e"
      },
      "outputs": [
        {
          "data": {
            "text/html": [
              "<div>\n",
              "<style scoped>\n",
              "    .dataframe tbody tr th:only-of-type {\n",
              "        vertical-align: middle;\n",
              "    }\n",
              "\n",
              "    .dataframe tbody tr th {\n",
              "        vertical-align: top;\n",
              "    }\n",
              "\n",
              "    .dataframe thead th {\n",
              "        text-align: right;\n",
              "    }\n",
              "</style>\n",
              "<table border=\"1\" class=\"dataframe\">\n",
              "  <thead>\n",
              "    <tr style=\"text-align: right;\">\n",
              "      <th></th>\n",
              "      <th>ID</th>\n",
              "      <th>Churn</th>\n",
              "      <th>Genero</th>\n",
              "      <th>Senior</th>\n",
              "      <th>Parceiro</th>\n",
              "      <th>Dependentes</th>\n",
              "      <th>Meses_Contrato</th>\n",
              "      <th>Assinatura_Servico_Telefonico</th>\n",
              "      <th>Assinatura_Multiplas_Linhas</th>\n",
              "      <th>Assinatura_Internet</th>\n",
              "      <th>...</th>\n",
              "      <th>Assinatura_Protecao_Dispositivo</th>\n",
              "      <th>Assinatura_Suporte_Tec</th>\n",
              "      <th>Assinatura_Tv_Cabo</th>\n",
              "      <th>Assinatura_Streaming</th>\n",
              "      <th>Contrato</th>\n",
              "      <th>Fatura_online</th>\n",
              "      <th>Forma_de_pagamento</th>\n",
              "      <th>Contas_Mensal</th>\n",
              "      <th>Contas_Geral</th>\n",
              "      <th>Contas_Diarias</th>\n",
              "    </tr>\n",
              "  </thead>\n",
              "  <tbody>\n",
              "    <tr>\n",
              "      <th>0</th>\n",
              "      <td>0002-ORFBO</td>\n",
              "      <td>No</td>\n",
              "      <td>Female</td>\n",
              "      <td>0</td>\n",
              "      <td>Yes</td>\n",
              "      <td>Yes</td>\n",
              "      <td>9</td>\n",
              "      <td>Yes</td>\n",
              "      <td>No</td>\n",
              "      <td>DSL</td>\n",
              "      <td>...</td>\n",
              "      <td>No</td>\n",
              "      <td>Yes</td>\n",
              "      <td>Yes</td>\n",
              "      <td>No</td>\n",
              "      <td>One year</td>\n",
              "      <td>Yes</td>\n",
              "      <td>Mailed check</td>\n",
              "      <td>65.60</td>\n",
              "      <td>593.30</td>\n",
              "      <td>2.19</td>\n",
              "    </tr>\n",
              "    <tr>\n",
              "      <th>1</th>\n",
              "      <td>0003-MKNFE</td>\n",
              "      <td>No</td>\n",
              "      <td>Male</td>\n",
              "      <td>0</td>\n",
              "      <td>No</td>\n",
              "      <td>No</td>\n",
              "      <td>9</td>\n",
              "      <td>Yes</td>\n",
              "      <td>Yes</td>\n",
              "      <td>DSL</td>\n",
              "      <td>...</td>\n",
              "      <td>No</td>\n",
              "      <td>No</td>\n",
              "      <td>No</td>\n",
              "      <td>Yes</td>\n",
              "      <td>Month-to-month</td>\n",
              "      <td>No</td>\n",
              "      <td>Mailed check</td>\n",
              "      <td>59.90</td>\n",
              "      <td>542.40</td>\n",
              "      <td>2.00</td>\n",
              "    </tr>\n",
              "    <tr>\n",
              "      <th>2</th>\n",
              "      <td>0004-TLHLJ</td>\n",
              "      <td>Yes</td>\n",
              "      <td>Male</td>\n",
              "      <td>0</td>\n",
              "      <td>No</td>\n",
              "      <td>No</td>\n",
              "      <td>4</td>\n",
              "      <td>Yes</td>\n",
              "      <td>No</td>\n",
              "      <td>Fiber optic</td>\n",
              "      <td>...</td>\n",
              "      <td>Yes</td>\n",
              "      <td>No</td>\n",
              "      <td>No</td>\n",
              "      <td>No</td>\n",
              "      <td>Month-to-month</td>\n",
              "      <td>Yes</td>\n",
              "      <td>Electronic check</td>\n",
              "      <td>73.90</td>\n",
              "      <td>280.85</td>\n",
              "      <td>2.46</td>\n",
              "    </tr>\n",
              "    <tr>\n",
              "      <th>3</th>\n",
              "      <td>0011-IGKFF</td>\n",
              "      <td>Yes</td>\n",
              "      <td>Male</td>\n",
              "      <td>1</td>\n",
              "      <td>Yes</td>\n",
              "      <td>No</td>\n",
              "      <td>13</td>\n",
              "      <td>Yes</td>\n",
              "      <td>No</td>\n",
              "      <td>Fiber optic</td>\n",
              "      <td>...</td>\n",
              "      <td>Yes</td>\n",
              "      <td>No</td>\n",
              "      <td>Yes</td>\n",
              "      <td>Yes</td>\n",
              "      <td>Month-to-month</td>\n",
              "      <td>Yes</td>\n",
              "      <td>Electronic check</td>\n",
              "      <td>98.00</td>\n",
              "      <td>1237.85</td>\n",
              "      <td>3.27</td>\n",
              "    </tr>\n",
              "    <tr>\n",
              "      <th>4</th>\n",
              "      <td>0013-EXCHZ</td>\n",
              "      <td>Yes</td>\n",
              "      <td>Female</td>\n",
              "      <td>1</td>\n",
              "      <td>Yes</td>\n",
              "      <td>No</td>\n",
              "      <td>3</td>\n",
              "      <td>Yes</td>\n",
              "      <td>No</td>\n",
              "      <td>Fiber optic</td>\n",
              "      <td>...</td>\n",
              "      <td>No</td>\n",
              "      <td>Yes</td>\n",
              "      <td>Yes</td>\n",
              "      <td>No</td>\n",
              "      <td>Month-to-month</td>\n",
              "      <td>Yes</td>\n",
              "      <td>Mailed check</td>\n",
              "      <td>83.90</td>\n",
              "      <td>267.40</td>\n",
              "      <td>2.80</td>\n",
              "    </tr>\n",
              "    <tr>\n",
              "      <th>...</th>\n",
              "      <td>...</td>\n",
              "      <td>...</td>\n",
              "      <td>...</td>\n",
              "      <td>...</td>\n",
              "      <td>...</td>\n",
              "      <td>...</td>\n",
              "      <td>...</td>\n",
              "      <td>...</td>\n",
              "      <td>...</td>\n",
              "      <td>...</td>\n",
              "      <td>...</td>\n",
              "      <td>...</td>\n",
              "      <td>...</td>\n",
              "      <td>...</td>\n",
              "      <td>...</td>\n",
              "      <td>...</td>\n",
              "      <td>...</td>\n",
              "      <td>...</td>\n",
              "      <td>...</td>\n",
              "      <td>...</td>\n",
              "      <td>...</td>\n",
              "    </tr>\n",
              "    <tr>\n",
              "      <th>7027</th>\n",
              "      <td>9987-LUTYD</td>\n",
              "      <td>No</td>\n",
              "      <td>Female</td>\n",
              "      <td>0</td>\n",
              "      <td>No</td>\n",
              "      <td>No</td>\n",
              "      <td>13</td>\n",
              "      <td>Yes</td>\n",
              "      <td>No</td>\n",
              "      <td>DSL</td>\n",
              "      <td>...</td>\n",
              "      <td>No</td>\n",
              "      <td>Yes</td>\n",
              "      <td>No</td>\n",
              "      <td>No</td>\n",
              "      <td>One year</td>\n",
              "      <td>No</td>\n",
              "      <td>Mailed check</td>\n",
              "      <td>55.15</td>\n",
              "      <td>742.90</td>\n",
              "      <td>1.84</td>\n",
              "    </tr>\n",
              "    <tr>\n",
              "      <th>7028</th>\n",
              "      <td>9992-RRAMN</td>\n",
              "      <td>Yes</td>\n",
              "      <td>Male</td>\n",
              "      <td>0</td>\n",
              "      <td>Yes</td>\n",
              "      <td>No</td>\n",
              "      <td>22</td>\n",
              "      <td>Yes</td>\n",
              "      <td>Yes</td>\n",
              "      <td>Fiber optic</td>\n",
              "      <td>...</td>\n",
              "      <td>No</td>\n",
              "      <td>No</td>\n",
              "      <td>No</td>\n",
              "      <td>Yes</td>\n",
              "      <td>Month-to-month</td>\n",
              "      <td>Yes</td>\n",
              "      <td>Electronic check</td>\n",
              "      <td>85.10</td>\n",
              "      <td>1873.70</td>\n",
              "      <td>2.84</td>\n",
              "    </tr>\n",
              "    <tr>\n",
              "      <th>7029</th>\n",
              "      <td>9992-UJOEL</td>\n",
              "      <td>No</td>\n",
              "      <td>Male</td>\n",
              "      <td>0</td>\n",
              "      <td>No</td>\n",
              "      <td>No</td>\n",
              "      <td>2</td>\n",
              "      <td>Yes</td>\n",
              "      <td>No</td>\n",
              "      <td>DSL</td>\n",
              "      <td>...</td>\n",
              "      <td>No</td>\n",
              "      <td>No</td>\n",
              "      <td>No</td>\n",
              "      <td>No</td>\n",
              "      <td>Month-to-month</td>\n",
              "      <td>Yes</td>\n",
              "      <td>Mailed check</td>\n",
              "      <td>50.30</td>\n",
              "      <td>92.75</td>\n",
              "      <td>1.68</td>\n",
              "    </tr>\n",
              "    <tr>\n",
              "      <th>7030</th>\n",
              "      <td>9993-LHIEB</td>\n",
              "      <td>No</td>\n",
              "      <td>Male</td>\n",
              "      <td>0</td>\n",
              "      <td>Yes</td>\n",
              "      <td>Yes</td>\n",
              "      <td>67</td>\n",
              "      <td>Yes</td>\n",
              "      <td>No</td>\n",
              "      <td>DSL</td>\n",
              "      <td>...</td>\n",
              "      <td>Yes</td>\n",
              "      <td>Yes</td>\n",
              "      <td>No</td>\n",
              "      <td>Yes</td>\n",
              "      <td>Two year</td>\n",
              "      <td>No</td>\n",
              "      <td>Mailed check</td>\n",
              "      <td>67.85</td>\n",
              "      <td>4627.65</td>\n",
              "      <td>2.26</td>\n",
              "    </tr>\n",
              "    <tr>\n",
              "      <th>7031</th>\n",
              "      <td>9995-HOTOH</td>\n",
              "      <td>No</td>\n",
              "      <td>Male</td>\n",
              "      <td>0</td>\n",
              "      <td>Yes</td>\n",
              "      <td>Yes</td>\n",
              "      <td>63</td>\n",
              "      <td>No</td>\n",
              "      <td>No phone service</td>\n",
              "      <td>DSL</td>\n",
              "      <td>...</td>\n",
              "      <td>Yes</td>\n",
              "      <td>No</td>\n",
              "      <td>Yes</td>\n",
              "      <td>Yes</td>\n",
              "      <td>Two year</td>\n",
              "      <td>No</td>\n",
              "      <td>Electronic check</td>\n",
              "      <td>59.00</td>\n",
              "      <td>3707.60</td>\n",
              "      <td>1.97</td>\n",
              "    </tr>\n",
              "  </tbody>\n",
              "</table>\n",
              "<p>7032 rows × 22 columns</p>\n",
              "</div>"
            ],
            "text/plain": [
              "              ID Churn  Genero  Senior Parceiro Dependentes  Meses_Contrato  \\\n",
              "0     0002-ORFBO    No  Female       0      Yes         Yes               9   \n",
              "1     0003-MKNFE    No    Male       0       No          No               9   \n",
              "2     0004-TLHLJ   Yes    Male       0       No          No               4   \n",
              "3     0011-IGKFF   Yes    Male       1      Yes          No              13   \n",
              "4     0013-EXCHZ   Yes  Female       1      Yes          No               3   \n",
              "...          ...   ...     ...     ...      ...         ...             ...   \n",
              "7027  9987-LUTYD    No  Female       0       No          No              13   \n",
              "7028  9992-RRAMN   Yes    Male       0      Yes          No              22   \n",
              "7029  9992-UJOEL    No    Male       0       No          No               2   \n",
              "7030  9993-LHIEB    No    Male       0      Yes         Yes              67   \n",
              "7031  9995-HOTOH    No    Male       0      Yes         Yes              63   \n",
              "\n",
              "     Assinatura_Servico_Telefonico Assinatura_Multiplas_Linhas  \\\n",
              "0                              Yes                          No   \n",
              "1                              Yes                         Yes   \n",
              "2                              Yes                          No   \n",
              "3                              Yes                          No   \n",
              "4                              Yes                          No   \n",
              "...                            ...                         ...   \n",
              "7027                           Yes                          No   \n",
              "7028                           Yes                         Yes   \n",
              "7029                           Yes                          No   \n",
              "7030                           Yes                          No   \n",
              "7031                            No            No phone service   \n",
              "\n",
              "     Assinatura_Internet  ... Assinatura_Protecao_Dispositivo  \\\n",
              "0                    DSL  ...                              No   \n",
              "1                    DSL  ...                              No   \n",
              "2            Fiber optic  ...                             Yes   \n",
              "3            Fiber optic  ...                             Yes   \n",
              "4            Fiber optic  ...                              No   \n",
              "...                  ...  ...                             ...   \n",
              "7027                 DSL  ...                              No   \n",
              "7028         Fiber optic  ...                              No   \n",
              "7029                 DSL  ...                              No   \n",
              "7030                 DSL  ...                             Yes   \n",
              "7031                 DSL  ...                             Yes   \n",
              "\n",
              "     Assinatura_Suporte_Tec Assinatura_Tv_Cabo Assinatura_Streaming  \\\n",
              "0                       Yes                Yes                   No   \n",
              "1                        No                 No                  Yes   \n",
              "2                        No                 No                   No   \n",
              "3                        No                Yes                  Yes   \n",
              "4                       Yes                Yes                   No   \n",
              "...                     ...                ...                  ...   \n",
              "7027                    Yes                 No                   No   \n",
              "7028                     No                 No                  Yes   \n",
              "7029                     No                 No                   No   \n",
              "7030                    Yes                 No                  Yes   \n",
              "7031                     No                Yes                  Yes   \n",
              "\n",
              "            Contrato Fatura_online Forma_de_pagamento Contas_Mensal  \\\n",
              "0           One year           Yes       Mailed check         65.60   \n",
              "1     Month-to-month            No       Mailed check         59.90   \n",
              "2     Month-to-month           Yes   Electronic check         73.90   \n",
              "3     Month-to-month           Yes   Electronic check         98.00   \n",
              "4     Month-to-month           Yes       Mailed check         83.90   \n",
              "...              ...           ...                ...           ...   \n",
              "7027        One year            No       Mailed check         55.15   \n",
              "7028  Month-to-month           Yes   Electronic check         85.10   \n",
              "7029  Month-to-month           Yes       Mailed check         50.30   \n",
              "7030        Two year            No       Mailed check         67.85   \n",
              "7031        Two year            No   Electronic check         59.00   \n",
              "\n",
              "     Contas_Geral  Contas_Diarias  \n",
              "0          593.30            2.19  \n",
              "1          542.40            2.00  \n",
              "2          280.85            2.46  \n",
              "3         1237.85            3.27  \n",
              "4          267.40            2.80  \n",
              "...           ...             ...  \n",
              "7027       742.90            1.84  \n",
              "7028      1873.70            2.84  \n",
              "7029        92.75            1.68  \n",
              "7030      4627.65            2.26  \n",
              "7031      3707.60            1.97  \n",
              "\n",
              "[7032 rows x 22 columns]"
            ]
          },
          "execution_count": 47,
          "metadata": {},
          "output_type": "execute_result"
        }
      ],
      "source": [
        "df"
      ]
    },
    {
      "cell_type": "code",
      "execution_count": 48,
      "metadata": {
        "colab": {
          "base_uri": "https://localhost:8080/"
        },
        "id": "X5_XO5DIeRHT",
        "outputId": "4e9effb2-1359-4aa2-b3bf-b01f43e99c0e"
      },
      "outputs": [
        {
          "name": "stdout",
          "output_type": "stream",
          "text": [
            "<class 'pandas.core.frame.DataFrame'>\n",
            "RangeIndex: 7032 entries, 0 to 7031\n",
            "Data columns (total 22 columns):\n",
            " #   Column                           Non-Null Count  Dtype  \n",
            "---  ------                           --------------  -----  \n",
            " 0   ID                               7032 non-null   object \n",
            " 1   Churn                            7032 non-null   object \n",
            " 2   Genero                           7032 non-null   object \n",
            " 3   Senior                           7032 non-null   int64  \n",
            " 4   Parceiro                         7032 non-null   object \n",
            " 5   Dependentes                      7032 non-null   object \n",
            " 6   Meses_Contrato                   7032 non-null   int64  \n",
            " 7   Assinatura_Servico_Telefonico    7032 non-null   object \n",
            " 8   Assinatura_Multiplas_Linhas      7032 non-null   object \n",
            " 9   Assinatura_Internet              7032 non-null   object \n",
            " 10  Assinatura_Seguranca_Online      7032 non-null   object \n",
            " 11  Assinatura_Backup                7032 non-null   object \n",
            " 12  Assinatura_Protecao_Dispositivo  7032 non-null   object \n",
            " 13  Assinatura_Suporte_Tec           7032 non-null   object \n",
            " 14  Assinatura_Tv_Cabo               7032 non-null   object \n",
            " 15  Assinatura_Streaming             7032 non-null   object \n",
            " 16  Contrato                         7032 non-null   object \n",
            " 17  Fatura_online                    7032 non-null   object \n",
            " 18  Forma_de_pagamento               7032 non-null   object \n",
            " 19  Contas_Mensal                    7032 non-null   float64\n",
            " 20  Contas_Geral                     7032 non-null   float64\n",
            " 21  Contas_Diarias                   7032 non-null   float64\n",
            "dtypes: float64(3), int64(2), object(17)\n",
            "memory usage: 1.2+ MB\n"
          ]
        }
      ],
      "source": [
        "df.info()"
      ]
    },
    {
      "cell_type": "markdown",
      "metadata": {
        "id": "9VVu-BDJkNnv"
      },
      "source": [
        "# Remoção de colunas irrelevantes\n",
        "\n",
        "\n",
        "---\n",
        "\n",
        "O objetivo dessa etapa é:\n",
        "\n",
        "- Remover colunas irrelevantes para a predição.\n",
        "- Entender a relação entre as variáveis de entrada, buscando redundâncias.\n",
        "\n",
        "Colunas de identificadores únicos (por exemplo, o ID) não oferecem valor para a análise, podendo até piorar o desempenho de modelos preditivos.\n",
        "\n",
        "Outro tipo de coluna irrelevante são colunas redundantes, sua identificação pode ser realizada com base na correlação das váriaveis umas com as outras."
      ]
    },
    {
      "cell_type": "code",
      "execution_count": 49,
      "metadata": {
        "id": "LvqZnnRUfwbE"
      },
      "outputs": [],
      "source": [
        "# Remoção da coluna 'ID'\n",
        "df.drop(columns='ID', inplace=True)"
      ]
    },
    {
      "cell_type": "code",
      "execution_count": 50,
      "metadata": {
        "colab": {
          "base_uri": "https://localhost:8080/",
          "height": 300
        },
        "id": "iFuCtVXWmox4",
        "outputId": "a29a6c3e-6d9d-4272-b763-fccc6957adb5"
      },
      "outputs": [
        {
          "data": {
            "text/html": [
              "<div>\n",
              "<style scoped>\n",
              "    .dataframe tbody tr th:only-of-type {\n",
              "        vertical-align: middle;\n",
              "    }\n",
              "\n",
              "    .dataframe tbody tr th {\n",
              "        vertical-align: top;\n",
              "    }\n",
              "\n",
              "    .dataframe thead th {\n",
              "        text-align: right;\n",
              "    }\n",
              "</style>\n",
              "<table border=\"1\" class=\"dataframe\">\n",
              "  <thead>\n",
              "    <tr style=\"text-align: right;\">\n",
              "      <th></th>\n",
              "      <th>Contas_Mensal</th>\n",
              "      <th>Contas_Geral</th>\n",
              "      <th>Contas_Diarias</th>\n",
              "    </tr>\n",
              "  </thead>\n",
              "  <tbody>\n",
              "    <tr>\n",
              "      <th>count</th>\n",
              "      <td>7032.000000</td>\n",
              "      <td>7032.000000</td>\n",
              "      <td>7032.000000</td>\n",
              "    </tr>\n",
              "    <tr>\n",
              "      <th>mean</th>\n",
              "      <td>64.798208</td>\n",
              "      <td>2283.300441</td>\n",
              "      <td>2.159891</td>\n",
              "    </tr>\n",
              "    <tr>\n",
              "      <th>std</th>\n",
              "      <td>30.085974</td>\n",
              "      <td>2266.771362</td>\n",
              "      <td>1.002955</td>\n",
              "    </tr>\n",
              "    <tr>\n",
              "      <th>min</th>\n",
              "      <td>18.250000</td>\n",
              "      <td>18.800000</td>\n",
              "      <td>0.610000</td>\n",
              "    </tr>\n",
              "    <tr>\n",
              "      <th>25%</th>\n",
              "      <td>35.587500</td>\n",
              "      <td>401.450000</td>\n",
              "      <td>1.187500</td>\n",
              "    </tr>\n",
              "    <tr>\n",
              "      <th>50%</th>\n",
              "      <td>70.350000</td>\n",
              "      <td>1397.475000</td>\n",
              "      <td>2.340000</td>\n",
              "    </tr>\n",
              "    <tr>\n",
              "      <th>75%</th>\n",
              "      <td>89.862500</td>\n",
              "      <td>3794.737500</td>\n",
              "      <td>2.992500</td>\n",
              "    </tr>\n",
              "    <tr>\n",
              "      <th>max</th>\n",
              "      <td>118.750000</td>\n",
              "      <td>8684.800000</td>\n",
              "      <td>3.960000</td>\n",
              "    </tr>\n",
              "  </tbody>\n",
              "</table>\n",
              "</div>"
            ],
            "text/plain": [
              "       Contas_Mensal  Contas_Geral  Contas_Diarias\n",
              "count    7032.000000   7032.000000     7032.000000\n",
              "mean       64.798208   2283.300441        2.159891\n",
              "std        30.085974   2266.771362        1.002955\n",
              "min        18.250000     18.800000        0.610000\n",
              "25%        35.587500    401.450000        1.187500\n",
              "50%        70.350000   1397.475000        2.340000\n",
              "75%        89.862500   3794.737500        2.992500\n",
              "max       118.750000   8684.800000        3.960000"
            ]
          },
          "execution_count": 50,
          "metadata": {},
          "output_type": "execute_result"
        }
      ],
      "source": [
        "# Análise de entradas quantitativas contínuas\n",
        "df.describe(include='float')"
      ]
    },
    {
      "cell_type": "code",
      "execution_count": 51,
      "metadata": {
        "colab": {
          "base_uri": "https://localhost:8080/",
          "height": 143
        },
        "id": "AyKeeY7CvNvf",
        "outputId": "be1a0966-5dc0-48cb-f332-5e3382b10c8b"
      },
      "outputs": [
        {
          "data": {
            "text/html": [
              "<div>\n",
              "<style scoped>\n",
              "    .dataframe tbody tr th:only-of-type {\n",
              "        vertical-align: middle;\n",
              "    }\n",
              "\n",
              "    .dataframe tbody tr th {\n",
              "        vertical-align: top;\n",
              "    }\n",
              "\n",
              "    .dataframe thead th {\n",
              "        text-align: right;\n",
              "    }\n",
              "</style>\n",
              "<table border=\"1\" class=\"dataframe\">\n",
              "  <thead>\n",
              "    <tr style=\"text-align: right;\">\n",
              "      <th></th>\n",
              "      <th>Contas_Mensal</th>\n",
              "      <th>Contas_Geral</th>\n",
              "      <th>Contas_Diarias</th>\n",
              "    </tr>\n",
              "  </thead>\n",
              "  <tbody>\n",
              "    <tr>\n",
              "      <th>Contas_Mensal</th>\n",
              "      <td>1.000000</td>\n",
              "      <td>0.651065</td>\n",
              "      <td>0.999996</td>\n",
              "    </tr>\n",
              "    <tr>\n",
              "      <th>Contas_Geral</th>\n",
              "      <td>0.651065</td>\n",
              "      <td>1.000000</td>\n",
              "      <td>0.651080</td>\n",
              "    </tr>\n",
              "    <tr>\n",
              "      <th>Contas_Diarias</th>\n",
              "      <td>0.999996</td>\n",
              "      <td>0.651080</td>\n",
              "      <td>1.000000</td>\n",
              "    </tr>\n",
              "  </tbody>\n",
              "</table>\n",
              "</div>"
            ],
            "text/plain": [
              "                Contas_Mensal  Contas_Geral  Contas_Diarias\n",
              "Contas_Mensal        1.000000      0.651065        0.999996\n",
              "Contas_Geral         0.651065      1.000000        0.651080\n",
              "Contas_Diarias       0.999996      0.651080        1.000000"
            ]
          },
          "execution_count": 51,
          "metadata": {},
          "output_type": "execute_result"
        }
      ],
      "source": [
        "# Análise da correlação de entradas quantitativas contínuas\n",
        "df[df.describe(include='float').columns].corr()"
      ]
    },
    {
      "cell_type": "code",
      "execution_count": 52,
      "metadata": {
        "id": "f2QtNZoNwvlf"
      },
      "outputs": [],
      "source": [
        "# Escolha pela remoção da coluna 'Contas_Diarias' devido a redundância com 'Contas_Mensal', com correlação expressiva (acima de 99%)\n",
        "df.drop('Contas_Diarias', axis = 1, inplace=True)"
      ]
    },
    {
      "cell_type": "code",
      "execution_count": 53,
      "metadata": {
        "colab": {
          "base_uri": "https://localhost:8080/",
          "height": 212
        },
        "id": "lzfpoPxZlOB-",
        "outputId": "283c95e4-4b67-4a86-b918-5775a76539cb"
      },
      "outputs": [
        {
          "data": {
            "text/html": [
              "<div>\n",
              "<style scoped>\n",
              "    .dataframe tbody tr th:only-of-type {\n",
              "        vertical-align: middle;\n",
              "    }\n",
              "\n",
              "    .dataframe tbody tr th {\n",
              "        vertical-align: top;\n",
              "    }\n",
              "\n",
              "    .dataframe thead th {\n",
              "        text-align: right;\n",
              "    }\n",
              "</style>\n",
              "<table border=\"1\" class=\"dataframe\">\n",
              "  <thead>\n",
              "    <tr style=\"text-align: right;\">\n",
              "      <th></th>\n",
              "      <th>Churn</th>\n",
              "      <th>Genero</th>\n",
              "      <th>Parceiro</th>\n",
              "      <th>Dependentes</th>\n",
              "      <th>Assinatura_Servico_Telefonico</th>\n",
              "      <th>Assinatura_Multiplas_Linhas</th>\n",
              "      <th>Assinatura_Internet</th>\n",
              "      <th>Assinatura_Seguranca_Online</th>\n",
              "      <th>Assinatura_Backup</th>\n",
              "      <th>Assinatura_Protecao_Dispositivo</th>\n",
              "      <th>Assinatura_Suporte_Tec</th>\n",
              "      <th>Assinatura_Tv_Cabo</th>\n",
              "      <th>Assinatura_Streaming</th>\n",
              "      <th>Contrato</th>\n",
              "      <th>Fatura_online</th>\n",
              "      <th>Forma_de_pagamento</th>\n",
              "    </tr>\n",
              "  </thead>\n",
              "  <tbody>\n",
              "    <tr>\n",
              "      <th>count</th>\n",
              "      <td>7032</td>\n",
              "      <td>7032</td>\n",
              "      <td>7032</td>\n",
              "      <td>7032</td>\n",
              "      <td>7032</td>\n",
              "      <td>7032</td>\n",
              "      <td>7032</td>\n",
              "      <td>7032</td>\n",
              "      <td>7032</td>\n",
              "      <td>7032</td>\n",
              "      <td>7032</td>\n",
              "      <td>7032</td>\n",
              "      <td>7032</td>\n",
              "      <td>7032</td>\n",
              "      <td>7032</td>\n",
              "      <td>7032</td>\n",
              "    </tr>\n",
              "    <tr>\n",
              "      <th>unique</th>\n",
              "      <td>2</td>\n",
              "      <td>2</td>\n",
              "      <td>2</td>\n",
              "      <td>2</td>\n",
              "      <td>2</td>\n",
              "      <td>3</td>\n",
              "      <td>3</td>\n",
              "      <td>3</td>\n",
              "      <td>3</td>\n",
              "      <td>3</td>\n",
              "      <td>3</td>\n",
              "      <td>3</td>\n",
              "      <td>3</td>\n",
              "      <td>3</td>\n",
              "      <td>2</td>\n",
              "      <td>4</td>\n",
              "    </tr>\n",
              "    <tr>\n",
              "      <th>top</th>\n",
              "      <td>No</td>\n",
              "      <td>Male</td>\n",
              "      <td>No</td>\n",
              "      <td>No</td>\n",
              "      <td>Yes</td>\n",
              "      <td>No</td>\n",
              "      <td>Fiber optic</td>\n",
              "      <td>No</td>\n",
              "      <td>No</td>\n",
              "      <td>No</td>\n",
              "      <td>No</td>\n",
              "      <td>No</td>\n",
              "      <td>No</td>\n",
              "      <td>Month-to-month</td>\n",
              "      <td>Yes</td>\n",
              "      <td>Electronic check</td>\n",
              "    </tr>\n",
              "    <tr>\n",
              "      <th>freq</th>\n",
              "      <td>5163</td>\n",
              "      <td>3549</td>\n",
              "      <td>3639</td>\n",
              "      <td>4933</td>\n",
              "      <td>6352</td>\n",
              "      <td>3385</td>\n",
              "      <td>3096</td>\n",
              "      <td>3497</td>\n",
              "      <td>3087</td>\n",
              "      <td>3094</td>\n",
              "      <td>3472</td>\n",
              "      <td>2809</td>\n",
              "      <td>2781</td>\n",
              "      <td>3875</td>\n",
              "      <td>4168</td>\n",
              "      <td>2365</td>\n",
              "    </tr>\n",
              "  </tbody>\n",
              "</table>\n",
              "</div>"
            ],
            "text/plain": [
              "       Churn Genero Parceiro Dependentes Assinatura_Servico_Telefonico  \\\n",
              "count   7032   7032     7032        7032                          7032   \n",
              "unique     2      2        2           2                             2   \n",
              "top       No   Male       No          No                           Yes   \n",
              "freq    5163   3549     3639        4933                          6352   \n",
              "\n",
              "       Assinatura_Multiplas_Linhas Assinatura_Internet  \\\n",
              "count                         7032                7032   \n",
              "unique                           3                   3   \n",
              "top                             No         Fiber optic   \n",
              "freq                          3385                3096   \n",
              "\n",
              "       Assinatura_Seguranca_Online Assinatura_Backup  \\\n",
              "count                         7032              7032   \n",
              "unique                           3                 3   \n",
              "top                             No                No   \n",
              "freq                          3497              3087   \n",
              "\n",
              "       Assinatura_Protecao_Dispositivo Assinatura_Suporte_Tec  \\\n",
              "count                             7032                   7032   \n",
              "unique                               3                      3   \n",
              "top                                 No                     No   \n",
              "freq                              3094                   3472   \n",
              "\n",
              "       Assinatura_Tv_Cabo Assinatura_Streaming        Contrato Fatura_online  \\\n",
              "count                7032                 7032            7032          7032   \n",
              "unique                  3                    3               3             2   \n",
              "top                    No                   No  Month-to-month           Yes   \n",
              "freq                 2809                 2781            3875          4168   \n",
              "\n",
              "       Forma_de_pagamento  \n",
              "count                7032  \n",
              "unique                  4  \n",
              "top      Electronic check  \n",
              "freq                 2365  "
            ]
          },
          "execution_count": 53,
          "metadata": {},
          "output_type": "execute_result"
        }
      ],
      "source": [
        "# Análise de entradas qualitativas do tipo 'object'\n",
        "df.describe(include='O')"
      ]
    },
    {
      "cell_type": "code",
      "execution_count": 54,
      "metadata": {
        "colab": {
          "base_uri": "https://localhost:8080/"
        },
        "id": "G_vXueE-kX9K",
        "outputId": "a62cf74b-89fd-4f2d-c90f-8789cc01dfa0"
      },
      "outputs": [
        {
          "name": "stdout",
          "output_type": "stream",
          "text": [
            "Assinatura_Multiplas_Linhas = ['No' 'Yes' 'No phone service'] - 3\n",
            "\n",
            "Assinatura_Internet = ['DSL' 'Fiber optic' 'No'] - 3\n",
            "\n",
            "Assinatura_Seguranca_Online = ['No' 'Yes' 'No internet service'] - 3\n",
            "\n",
            "Assinatura_Backup = ['Yes' 'No' 'No internet service'] - 3\n",
            "\n",
            "Assinatura_Protecao_Dispositivo = ['No' 'Yes' 'No internet service'] - 3\n",
            "\n",
            "Assinatura_Suporte_Tec = ['Yes' 'No' 'No internet service'] - 3\n",
            "\n",
            "Assinatura_Tv_Cabo = ['Yes' 'No' 'No internet service'] - 3\n",
            "\n",
            "Assinatura_Streaming = ['No' 'Yes' 'No internet service'] - 3\n",
            "\n",
            "Contrato = ['One year' 'Month-to-month' 'Two year'] - 3\n",
            "\n",
            "Forma_de_pagamento = ['Mailed check' 'Electronic check' 'Credit card (automatic)'\n",
            " 'Bank transfer (automatic)'] - 4\n",
            "\n"
          ]
        }
      ],
      "source": [
        "# Visualização dos valores únicos não-binários das entradas qualitativas.\n",
        "colunas_categoricas = [coluna for coluna in df.columns if len(df[coluna].unique()) <= 5]\n",
        "\n",
        "for coluna in colunas_categoricas:\n",
        "  if len(df[coluna].unique()) > 2:\n",
        "    print(f'{coluna} = {df[coluna].unique()} - {len(df[coluna].unique())}\\n')"
      ]
    },
    {
      "cell_type": "markdown",
      "metadata": {
        "id": "6m3CoY-2txLL"
      },
      "source": [
        "# Ajuste de classes\n",
        "\n",
        "\n",
        "---\n",
        "\n",
        "Ao analisar os valores únicos de colunas qualitativas não-binárias, foi possível identificar uma reincidência de categorias como *'No'* e *'No internet service'* ou *'No phone service'*.\n",
        "\n",
        "Embora sejam classes relevantes, esse tipo de informação já são dispostas, respectivamente, nas colunas *'Assinatura_Internet'* e *'Assinatura_Servico_Telefonico'*. Como pode ser visto abaixo:"
      ]
    },
    {
      "cell_type": "code",
      "execution_count": 55,
      "metadata": {
        "colab": {
          "base_uri": "https://localhost:8080/",
          "height": 143
        },
        "id": "JQPnxmP4lrSh",
        "outputId": "3e369390-fe92-4515-b32e-1e7effa30d77"
      },
      "outputs": [
        {
          "data": {
            "text/html": [
              "<div>\n",
              "<style scoped>\n",
              "    .dataframe tbody tr th:only-of-type {\n",
              "        vertical-align: middle;\n",
              "    }\n",
              "\n",
              "    .dataframe tbody tr th {\n",
              "        vertical-align: top;\n",
              "    }\n",
              "\n",
              "    .dataframe thead th {\n",
              "        text-align: right;\n",
              "    }\n",
              "</style>\n",
              "<table border=\"1\" class=\"dataframe\">\n",
              "  <thead>\n",
              "    <tr style=\"text-align: right;\">\n",
              "      <th></th>\n",
              "      <th>Assinatura_Servico_Telefonico</th>\n",
              "      <th>Assinatura_Multiplas_Linhas</th>\n",
              "      <th>count</th>\n",
              "    </tr>\n",
              "  </thead>\n",
              "  <tbody>\n",
              "    <tr>\n",
              "      <th>0</th>\n",
              "      <td>No</td>\n",
              "      <td>No phone service</td>\n",
              "      <td>680</td>\n",
              "    </tr>\n",
              "    <tr>\n",
              "      <th>1</th>\n",
              "      <td>Yes</td>\n",
              "      <td>No</td>\n",
              "      <td>3385</td>\n",
              "    </tr>\n",
              "    <tr>\n",
              "      <th>2</th>\n",
              "      <td>Yes</td>\n",
              "      <td>Yes</td>\n",
              "      <td>2967</td>\n",
              "    </tr>\n",
              "  </tbody>\n",
              "</table>\n",
              "</div>"
            ],
            "text/plain": [
              "  Assinatura_Servico_Telefonico Assinatura_Multiplas_Linhas  count\n",
              "0                            No            No phone service    680\n",
              "1                           Yes                          No   3385\n",
              "2                           Yes                         Yes   2967"
            ]
          },
          "execution_count": 55,
          "metadata": {},
          "output_type": "execute_result"
        }
      ],
      "source": [
        "# A informação de não possuir assinatura telefônica é repetida na coluna 'Assinatura_Multiplas_Linhas'\n",
        "df.groupby('Assinatura_Servico_Telefonico')['Assinatura_Multiplas_Linhas'].value_counts().reset_index()"
      ]
    },
    {
      "cell_type": "code",
      "execution_count": 56,
      "metadata": {
        "colab": {
          "base_uri": "https://localhost:8080/",
          "height": 143
        },
        "id": "q5IMqNjplwIg",
        "outputId": "d7812488-736b-4241-c1a0-3ee1de6c1438"
      },
      "outputs": [
        {
          "data": {
            "text/html": [
              "<div>\n",
              "<style scoped>\n",
              "    .dataframe tbody tr th:only-of-type {\n",
              "        vertical-align: middle;\n",
              "    }\n",
              "\n",
              "    .dataframe tbody tr th {\n",
              "        vertical-align: top;\n",
              "    }\n",
              "\n",
              "    .dataframe thead th {\n",
              "        text-align: right;\n",
              "    }\n",
              "</style>\n",
              "<table border=\"1\" class=\"dataframe\">\n",
              "  <thead>\n",
              "    <tr style=\"text-align: right;\">\n",
              "      <th></th>\n",
              "      <th>Assinatura_Internet</th>\n",
              "      <th>Assinatura_Protecao_Dispositivo</th>\n",
              "      <th>Assinatura_Suporte_Tec</th>\n",
              "      <th>Assinatura_Tv_Cabo</th>\n",
              "      <th>Assinatura_Streaming</th>\n",
              "      <th>count</th>\n",
              "    </tr>\n",
              "  </thead>\n",
              "  <tbody>\n",
              "    <tr>\n",
              "      <th>30</th>\n",
              "      <td>Fiber optic</td>\n",
              "      <td>No</td>\n",
              "      <td>Yes</td>\n",
              "      <td>No</td>\n",
              "      <td>Yes</td>\n",
              "      <td>46</td>\n",
              "    </tr>\n",
              "    <tr>\n",
              "      <th>31</th>\n",
              "      <td>Fiber optic</td>\n",
              "      <td>Yes</td>\n",
              "      <td>Yes</td>\n",
              "      <td>Yes</td>\n",
              "      <td>No</td>\n",
              "      <td>43</td>\n",
              "    </tr>\n",
              "    <tr>\n",
              "      <th>32</th>\n",
              "      <td>No</td>\n",
              "      <td>No internet service</td>\n",
              "      <td>No internet service</td>\n",
              "      <td>No internet service</td>\n",
              "      <td>No internet service</td>\n",
              "      <td>1520</td>\n",
              "    </tr>\n",
              "  </tbody>\n",
              "</table>\n",
              "</div>"
            ],
            "text/plain": [
              "   Assinatura_Internet Assinatura_Protecao_Dispositivo Assinatura_Suporte_Tec  \\\n",
              "30         Fiber optic                              No                    Yes   \n",
              "31         Fiber optic                             Yes                    Yes   \n",
              "32                  No             No internet service    No internet service   \n",
              "\n",
              "     Assinatura_Tv_Cabo Assinatura_Streaming  count  \n",
              "30                   No                  Yes     46  \n",
              "31                  Yes                   No     43  \n",
              "32  No internet service  No internet service   1520  "
            ]
          },
          "execution_count": 56,
          "metadata": {},
          "output_type": "execute_result"
        }
      ],
      "source": [
        "# Semelhante ao caso anterior, resultados limitados por '.tail()' para focar nos casos 'Assinatura_Internet' igual a 'No'\n",
        "df.groupby('Assinatura_Internet')[['Assinatura_Protecao_Dispositivo','Assinatura_Suporte_Tec', 'Assinatura_Tv_Cabo',\n",
        "                                   'Assinatura_Streaming', 'Assinatura_Internet']].value_counts().reset_index().tail(3)"
      ]
    },
    {
      "cell_type": "markdown",
      "metadata": {
        "id": "ga37LmFzmJUM"
      },
      "source": [
        "Simplificar esses dados auxilia na redução de colunas, uma vez que entradas qualitativas não binárias seriam convertidas em n-entradas/n-colunas ao realizar a codificação (One-Hot Encoding).\n",
        "\n",
        "Os elementos *'No internet service'* e *'No phone service'* foram substituidos pela classe *'No'*. Tornando essas entradas em classes binárias."
      ]
    },
    {
      "cell_type": "code",
      "execution_count": 57,
      "metadata": {
        "id": "3yC68SeJRnlb"
      },
      "outputs": [],
      "source": [
        "df[colunas_categoricas] = df[colunas_categoricas].replace(['No internet service', 'No phone service'], 'No')"
      ]
    },
    {
      "cell_type": "markdown",
      "metadata": {
        "id": "fygXSa_ltDDJ"
      },
      "source": [
        "# Encoding\n",
        "\n",
        "---\n",
        "\n",
        "Transformação das variáveis categóricas em formato numérico, tornando-as compatíveis com os modelos."
      ]
    },
    {
      "cell_type": "markdown",
      "metadata": {
        "id": "9Ymbrm5suWc9"
      },
      "source": [
        "Para colunas binárias a transformação é simplificada:\n",
        "\n",
        "1. Coluna *'Genero'* é convertida de classes *'**Male**'* e *'**Female**'* para **0** e **1**.\n",
        "2. Demais colunas possuem classes ***'No'*** e ***'Yes'***, convertidas para **0** e **1**."
      ]
    },
    {
      "cell_type": "code",
      "execution_count": 58,
      "metadata": {
        "id": "yT3YSa--r51Q"
      },
      "outputs": [],
      "source": [
        "# Transformação de variáveis categóricas binárias em formato númerico\n",
        "\n",
        "df['Genero'] = df['Genero'].replace(['Male', 'Female'], [0, 1])\n",
        "\n",
        "df[colunas_categoricas] = df[colunas_categoricas].apply(lambda x: x.replace(['No', 'Yes'], [0, 1]) if len(x.unique()) == 2 else x)"
      ]
    },
    {
      "cell_type": "markdown",
      "metadata": {
        "id": "FbQewvFCviHv"
      },
      "source": [
        "Para colunas não-binárias os dados são transformados utilizando o codificador **OneHotEncoder**. Esse *encoder* segue o método de codificação **One-Hot**, que transforma cada uma das classes das variáveis categóricas em novas colunas, utilizando o valor **0** para representar a ausência da característica e **1** para a presença da característica.\n",
        "\n",
        "Um novo dataframe é gerado com as novas colunas e as anteriores que não foram alteradas, possuindo as seguintes características:\n",
        "\n",
        "- Colunas com prefixo *'onehotencoder__'* são colunas geradas com base nas classes da respectiva varíavel.\n",
        "\n",
        "- Colunas com o prefixo *'remainder__'* não foram alteradas.\n",
        "\n",
        "- Todas possuem tipo númerico."
      ]
    },
    {
      "cell_type": "code",
      "execution_count": 59,
      "metadata": {
        "colab": {
          "base_uri": "https://localhost:8080/"
        },
        "id": "HZZux40U8_kw",
        "outputId": "f8e92627-51e3-40ce-e68e-f52a5e8c0515"
      },
      "outputs": [
        {
          "name": "stdout",
          "output_type": "stream",
          "text": [
            "<class 'pandas.core.frame.DataFrame'>\n",
            "RangeIndex: 7032 entries, 0 to 7031\n",
            "Data columns (total 27 columns):\n",
            " #   Column                                                       Non-Null Count  Dtype \n",
            "---  ------                                                       --------------  ----- \n",
            " 0   onehotencoder__Assinatura_Internet_DSL                       7032 non-null   object\n",
            " 1   onehotencoder__Assinatura_Internet_Fiber optic               7032 non-null   object\n",
            " 2   onehotencoder__Assinatura_Internet_No                        7032 non-null   object\n",
            " 3   onehotencoder__Contrato_Month-to-month                       7032 non-null   object\n",
            " 4   onehotencoder__Contrato_One year                             7032 non-null   object\n",
            " 5   onehotencoder__Contrato_Two year                             7032 non-null   object\n",
            " 6   onehotencoder__Forma_de_pagamento_Bank transfer (automatic)  7032 non-null   object\n",
            " 7   onehotencoder__Forma_de_pagamento_Credit card (automatic)    7032 non-null   object\n",
            " 8   onehotencoder__Forma_de_pagamento_Electronic check           7032 non-null   object\n",
            " 9   onehotencoder__Forma_de_pagamento_Mailed check               7032 non-null   object\n",
            " 10  remainder__Churn                                             7032 non-null   object\n",
            " 11  remainder__Genero                                            7032 non-null   object\n",
            " 12  remainder__Senior                                            7032 non-null   object\n",
            " 13  remainder__Parceiro                                          7032 non-null   object\n",
            " 14  remainder__Dependentes                                       7032 non-null   object\n",
            " 15  remainder__Meses_Contrato                                    7032 non-null   object\n",
            " 16  remainder__Assinatura_Servico_Telefonico                     7032 non-null   object\n",
            " 17  remainder__Assinatura_Multiplas_Linhas                       7032 non-null   object\n",
            " 18  remainder__Assinatura_Seguranca_Online                       7032 non-null   object\n",
            " 19  remainder__Assinatura_Backup                                 7032 non-null   object\n",
            " 20  remainder__Assinatura_Protecao_Dispositivo                   7032 non-null   object\n",
            " 21  remainder__Assinatura_Suporte_Tec                            7032 non-null   object\n",
            " 22  remainder__Assinatura_Tv_Cabo                                7032 non-null   object\n",
            " 23  remainder__Assinatura_Streaming                              7032 non-null   object\n",
            " 24  remainder__Fatura_online                                     7032 non-null   object\n",
            " 25  remainder__Contas_Mensal                                     7032 non-null   object\n",
            " 26  remainder__Contas_Geral                                      7032 non-null   object\n",
            "dtypes: object(27)\n",
            "memory usage: 1.4+ MB\n"
          ]
        }
      ],
      "source": [
        "# Codificação de colunas categóricas não-binárias em formato númerico, utilizando one-hot enconding.\n",
        "\n",
        "colunas = df.columns\n",
        "\n",
        "one_hot = make_column_transformer((OneHotEncoder(drop = 'if_binary'), ['Assinatura_Internet', 'Contrato', 'Forma_de_pagamento']),\n",
        "    remainder = 'passthrough',\n",
        "    sparse_threshold=0\n",
        "    )\n",
        "\n",
        "df_codificado = one_hot.fit_transform(df)\n",
        "\n",
        "df_codificado = pd.DataFrame(df_codificado, columns = one_hot.get_feature_names_out(colunas))\n",
        "df_codificado.info()"
      ]
    },
    {
      "cell_type": "markdown",
      "metadata": {
        "id": "p0sv1NQ2ygbe"
      },
      "source": [
        "Por fim é utilizado o **LabelEncoder**, codificador voltado para a conversão dos valores da variável alvo entre 0 e n-1 classes. Nesse caso, a coluna 'Churn', com apenas duas classes.\n",
        "\n",
        "Sendo assim, separamos as variáveis de entrada em **'x'** e a variável alvo/saída em **'y'**. Antes de aplicar o codificador:"
      ]
    },
    {
      "cell_type": "code",
      "execution_count": 60,
      "metadata": {
        "id": "kEnOgS1EDdvV"
      },
      "outputs": [],
      "source": [
        "label_encoder = LabelEncoder()\n",
        "\n",
        "y = label_encoder.fit_transform(df_codificado['remainder__Churn'])\n",
        "\n",
        "x = df_codificado.drop('remainder__Churn', axis=1)"
      ]
    },
    {
      "cell_type": "markdown",
      "metadata": {
        "id": "sEbxCiTY07Xt"
      },
      "source": [
        "# Análise de Correlação\n",
        "\n",
        "\n",
        "---\n",
        "\n",
        "A Matriz de Correlação, utilizada anteriormente para visualizar a relação entre as váriaveis de entrada, também deve ser utilizada para verificar a correlação entre as váriaveis de entrada e váriavel alvo.\n",
        "\n",
        "Dessa forma, é possível identificar as relações e variáveis com maior correlação com a evasão:\n",
        "\n",
        "- As correlações que mais influenciam na evasão são aquelas que mais se aproximan de 1 ou -1."
      ]
    },
    {
      "cell_type": "code",
      "execution_count": 61,
      "metadata": {
        "colab": {
          "base_uri": "https://localhost:8080/",
          "height": 931
        },
        "id": "Ghdp6SP00iZs",
        "outputId": "8bc7a4b6-f890-4098-d9f7-d3c7b89451f3"
      },
      "outputs": [
        {
          "data": {
            "text/plain": [
              "remainder__Churn                                               1.000000\n",
              "onehotencoder__Contrato_Month-to-month                         0.404565\n",
              "onehotencoder__Assinatura_Internet_Fiber optic                 0.307463\n",
              "onehotencoder__Forma_de_pagamento_Electronic check             0.301455\n",
              "remainder__Contas_Mensal                                       0.192858\n",
              "remainder__Fatura_online                                       0.191454\n",
              "remainder__Senior                                              0.150541\n",
              "remainder__Assinatura_Tv_Cabo                                  0.063254\n",
              "remainder__Assinatura_Streaming                                0.060860\n",
              "remainder__Assinatura_Multiplas_Linhas                         0.040033\n",
              "remainder__Assinatura_Servico_Telefonico                       0.011691\n",
              "remainder__Genero                                              0.008545\n",
              "remainder__Assinatura_Protecao_Dispositivo                    -0.066193\n",
              "remainder__Assinatura_Backup                                  -0.082307\n",
              "onehotencoder__Forma_de_pagamento_Mailed check                -0.090773\n",
              "onehotencoder__Forma_de_pagamento_Bank transfer (automatic)   -0.118136\n",
              "onehotencoder__Assinatura_Internet_DSL                        -0.124141\n",
              "onehotencoder__Forma_de_pagamento_Credit card (automatic)     -0.134687\n",
              "remainder__Parceiro                                           -0.149982\n",
              "remainder__Dependentes                                        -0.163128\n",
              "remainder__Assinatura_Suporte_Tec                             -0.164716\n",
              "remainder__Assinatura_Seguranca_Online                        -0.171270\n",
              "onehotencoder__Contrato_One year                              -0.178225\n",
              "remainder__Contas_Geral                                       -0.199484\n",
              "onehotencoder__Assinatura_Internet_No                         -0.227578\n",
              "onehotencoder__Contrato_Two year                              -0.301552\n",
              "remainder__Meses_Contrato                                     -0.354049\n",
              "Name: remainder__Churn, dtype: float64"
            ]
          },
          "execution_count": 61,
          "metadata": {},
          "output_type": "execute_result"
        }
      ],
      "source": [
        "df_codificado.corr()['remainder__Churn'].sort_values(ascending=False)"
      ]
    },
    {
      "cell_type": "markdown",
      "metadata": {
        "id": "X6_zBIaRMD2H"
      },
      "source": [
        "# Análises Direcionadas\n",
        "\n",
        "\n",
        "---\n",
        "\n",
        "A seguir estão as relações entre a evasão de clientes e o tempo de contrato/total gasto."
      ]
    },
    {
      "cell_type": "code",
      "execution_count": 62,
      "metadata": {
        "colab": {
          "base_uri": "https://localhost:8080/",
          "height": 1000
        },
        "id": "pondBvSRJBaj",
        "outputId": "70b70426-b710-42a6-9a55-4af84186aadb"
      },
      "outputs": [
        {
          "data": {
            "application/vnd.plotly.v1+json": {
              "config": {
                "plotlyServerURL": "https://plot.ly"
              },
              "data": [
                {
                  "alignmentgroup": "True",
                  "hovertemplate": "Churn=0<br>Meses_Contrato=%{x}<extra></extra>",
                  "legendgroup": "0",
                  "marker": {
                    "color": "#636efa"
                  },
                  "name": "0",
                  "notched": false,
                  "offsetgroup": "0",
                  "orientation": "h",
                  "showlegend": true,
                  "type": "box",
                  "x": {
                    "bdata": "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",
                    "dtype": "i1"
                  },
                  "x0": " ",
                  "xaxis": "x",
                  "y0": " ",
                  "yaxis": "y"
                },
                {
                  "alignmentgroup": "True",
                  "hovertemplate": "Churn=1<br>Meses_Contrato=%{x}<extra></extra>",
                  "legendgroup": "1",
                  "marker": {
                    "color": "#EF553B"
                  },
                  "name": "1",
                  "notched": false,
                  "offsetgroup": "1",
                  "orientation": "h",
                  "showlegend": true,
                  "type": "box",
                  "x": {
                    "bdata": "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",
                    "dtype": "i1"
                  },
                  "x0": " ",
                  "xaxis": "x",
                  "y0": " ",
                  "yaxis": "y"
                }
              ],
              "layout": {
                "boxmode": "group",
                "legend": {
                  "title": {
                    "text": "Churn"
                  },
                  "tracegroupgap": 0
                },
                "template": {
                  "data": {
                    "bar": [
                      {
                        "error_x": {
                          "color": "#2a3f5f"
                        },
                        "error_y": {
                          "color": "#2a3f5f"
                        },
                        "marker": {
                          "line": {
                            "color": "#E5ECF6",
                            "width": 0.5
                          },
                          "pattern": {
                            "fillmode": "overlay",
                            "size": 10,
                            "solidity": 0.2
                          }
                        },
                        "type": "bar"
                      }
                    ],
                    "barpolar": [
                      {
                        "marker": {
                          "line": {
                            "color": "#E5ECF6",
                            "width": 0.5
                          },
                          "pattern": {
                            "fillmode": "overlay",
                            "size": 10,
                            "solidity": 0.2
                          }
                        },
                        "type": "barpolar"
                      }
                    ],
                    "carpet": [
                      {
                        "aaxis": {
                          "endlinecolor": "#2a3f5f",
                          "gridcolor": "white",
                          "linecolor": "white",
                          "minorgridcolor": "white",
                          "startlinecolor": "#2a3f5f"
                        },
                        "baxis": {
                          "endlinecolor": "#2a3f5f",
                          "gridcolor": "white",
                          "linecolor": "white",
                          "minorgridcolor": "white",
                          "startlinecolor": "#2a3f5f"
                        },
                        "type": "carpet"
                      }
                    ],
                    "choropleth": [
                      {
                        "colorbar": {
                          "outlinewidth": 0,
                          "ticks": ""
                        },
                        "type": "choropleth"
                      }
                    ],
                    "contour": [
                      {
                        "colorbar": {
                          "outlinewidth": 0,
                          "ticks": ""
                        },
                        "colorscale": [
                          [
                            0,
                            "#0d0887"
                          ],
                          [
                            0.1111111111111111,
                            "#46039f"
                          ],
                          [
                            0.2222222222222222,
                            "#7201a8"
                          ],
                          [
                            0.3333333333333333,
                            "#9c179e"
                          ],
                          [
                            0.4444444444444444,
                            "#bd3786"
                          ],
                          [
                            0.5555555555555556,
                            "#d8576b"
                          ],
                          [
                            0.6666666666666666,
                            "#ed7953"
                          ],
                          [
                            0.7777777777777778,
                            "#fb9f3a"
                          ],
                          [
                            0.8888888888888888,
                            "#fdca26"
                          ],
                          [
                            1,
                            "#f0f921"
                          ]
                        ],
                        "type": "contour"
                      }
                    ],
                    "contourcarpet": [
                      {
                        "colorbar": {
                          "outlinewidth": 0,
                          "ticks": ""
                        },
                        "type": "contourcarpet"
                      }
                    ],
                    "heatmap": [
                      {
                        "colorbar": {
                          "outlinewidth": 0,
                          "ticks": ""
                        },
                        "colorscale": [
                          [
                            0,
                            "#0d0887"
                          ],
                          [
                            0.1111111111111111,
                            "#46039f"
                          ],
                          [
                            0.2222222222222222,
                            "#7201a8"
                          ],
                          [
                            0.3333333333333333,
                            "#9c179e"
                          ],
                          [
                            0.4444444444444444,
                            "#bd3786"
                          ],
                          [
                            0.5555555555555556,
                            "#d8576b"
                          ],
                          [
                            0.6666666666666666,
                            "#ed7953"
                          ],
                          [
                            0.7777777777777778,
                            "#fb9f3a"
                          ],
                          [
                            0.8888888888888888,
                            "#fdca26"
                          ],
                          [
                            1,
                            "#f0f921"
                          ]
                        ],
                        "type": "heatmap"
                      }
                    ],
                    "histogram": [
                      {
                        "marker": {
                          "pattern": {
                            "fillmode": "overlay",
                            "size": 10,
                            "solidity": 0.2
                          }
                        },
                        "type": "histogram"
                      }
                    ],
                    "histogram2d": [
                      {
                        "colorbar": {
                          "outlinewidth": 0,
                          "ticks": ""
                        },
                        "colorscale": [
                          [
                            0,
                            "#0d0887"
                          ],
                          [
                            0.1111111111111111,
                            "#46039f"
                          ],
                          [
                            0.2222222222222222,
                            "#7201a8"
                          ],
                          [
                            0.3333333333333333,
                            "#9c179e"
                          ],
                          [
                            0.4444444444444444,
                            "#bd3786"
                          ],
                          [
                            0.5555555555555556,
                            "#d8576b"
                          ],
                          [
                            0.6666666666666666,
                            "#ed7953"
                          ],
                          [
                            0.7777777777777778,
                            "#fb9f3a"
                          ],
                          [
                            0.8888888888888888,
                            "#fdca26"
                          ],
                          [
                            1,
                            "#f0f921"
                          ]
                        ],
                        "type": "histogram2d"
                      }
                    ],
                    "histogram2dcontour": [
                      {
                        "colorbar": {
                          "outlinewidth": 0,
                          "ticks": ""
                        },
                        "colorscale": [
                          [
                            0,
                            "#0d0887"
                          ],
                          [
                            0.1111111111111111,
                            "#46039f"
                          ],
                          [
                            0.2222222222222222,
                            "#7201a8"
                          ],
                          [
                            0.3333333333333333,
                            "#9c179e"
                          ],
                          [
                            0.4444444444444444,
                            "#bd3786"
                          ],
                          [
                            0.5555555555555556,
                            "#d8576b"
                          ],
                          [
                            0.6666666666666666,
                            "#ed7953"
                          ],
                          [
                            0.7777777777777778,
                            "#fb9f3a"
                          ],
                          [
                            0.8888888888888888,
                            "#fdca26"
                          ],
                          [
                            1,
                            "#f0f921"
                          ]
                        ],
                        "type": "histogram2dcontour"
                      }
                    ],
                    "mesh3d": [
                      {
                        "colorbar": {
                          "outlinewidth": 0,
                          "ticks": ""
                        },
                        "type": "mesh3d"
                      }
                    ],
                    "parcoords": [
                      {
                        "line": {
                          "colorbar": {
                            "outlinewidth": 0,
                            "ticks": ""
                          }
                        },
                        "type": "parcoords"
                      }
                    ],
                    "pie": [
                      {
                        "automargin": true,
                        "type": "pie"
                      }
                    ],
                    "scatter": [
                      {
                        "fillpattern": {
                          "fillmode": "overlay",
                          "size": 10,
                          "solidity": 0.2
                        },
                        "type": "scatter"
                      }
                    ],
                    "scatter3d": [
                      {
                        "line": {
                          "colorbar": {
                            "outlinewidth": 0,
                            "ticks": ""
                          }
                        },
                        "marker": {
                          "colorbar": {
                            "outlinewidth": 0,
                            "ticks": ""
                          }
                        },
                        "type": "scatter3d"
                      }
                    ],
                    "scattercarpet": [
                      {
                        "marker": {
                          "colorbar": {
                            "outlinewidth": 0,
                            "ticks": ""
                          }
                        },
                        "type": "scattercarpet"
                      }
                    ],
                    "scattergeo": [
                      {
                        "marker": {
                          "colorbar": {
                            "outlinewidth": 0,
                            "ticks": ""
                          }
                        },
                        "type": "scattergeo"
                      }
                    ],
                    "scattergl": [
                      {
                        "marker": {
                          "colorbar": {
                            "outlinewidth": 0,
                            "ticks": ""
                          }
                        },
                        "type": "scattergl"
                      }
                    ],
                    "scattermap": [
                      {
                        "marker": {
                          "colorbar": {
                            "outlinewidth": 0,
                            "ticks": ""
                          }
                        },
                        "type": "scattermap"
                      }
                    ],
                    "scattermapbox": [
                      {
                        "marker": {
                          "colorbar": {
                            "outlinewidth": 0,
                            "ticks": ""
                          }
                        },
                        "type": "scattermapbox"
                      }
                    ],
                    "scatterpolar": [
                      {
                        "marker": {
                          "colorbar": {
                            "outlinewidth": 0,
                            "ticks": ""
                          }
                        },
                        "type": "scatterpolar"
                      }
                    ],
                    "scatterpolargl": [
                      {
                        "marker": {
                          "colorbar": {
                            "outlinewidth": 0,
                            "ticks": ""
                          }
                        },
                        "type": "scatterpolargl"
                      }
                    ],
                    "scatterternary": [
                      {
                        "marker": {
                          "colorbar": {
                            "outlinewidth": 0,
                            "ticks": ""
                          }
                        },
                        "type": "scatterternary"
                      }
                    ],
                    "surface": [
                      {
                        "colorbar": {
                          "outlinewidth": 0,
                          "ticks": ""
                        },
                        "colorscale": [
                          [
                            0,
                            "#0d0887"
                          ],
                          [
                            0.1111111111111111,
                            "#46039f"
                          ],
                          [
                            0.2222222222222222,
                            "#7201a8"
                          ],
                          [
                            0.3333333333333333,
                            "#9c179e"
                          ],
                          [
                            0.4444444444444444,
                            "#bd3786"
                          ],
                          [
                            0.5555555555555556,
                            "#d8576b"
                          ],
                          [
                            0.6666666666666666,
                            "#ed7953"
                          ],
                          [
                            0.7777777777777778,
                            "#fb9f3a"
                          ],
                          [
                            0.8888888888888888,
                            "#fdca26"
                          ],
                          [
                            1,
                            "#f0f921"
                          ]
                        ],
                        "type": "surface"
                      }
                    ],
                    "table": [
                      {
                        "cells": {
                          "fill": {
                            "color": "#EBF0F8"
                          },
                          "line": {
                            "color": "white"
                          }
                        },
                        "header": {
                          "fill": {
                            "color": "#C8D4E3"
                          },
                          "line": {
                            "color": "white"
                          }
                        },
                        "type": "table"
                      }
                    ]
                  },
                  "layout": {
                    "annotationdefaults": {
                      "arrowcolor": "#2a3f5f",
                      "arrowhead": 0,
                      "arrowwidth": 1
                    },
                    "autotypenumbers": "strict",
                    "coloraxis": {
                      "colorbar": {
                        "outlinewidth": 0,
                        "ticks": ""
                      }
                    },
                    "colorscale": {
                      "diverging": [
                        [
                          0,
                          "#8e0152"
                        ],
                        [
                          0.1,
                          "#c51b7d"
                        ],
                        [
                          0.2,
                          "#de77ae"
                        ],
                        [
                          0.3,
                          "#f1b6da"
                        ],
                        [
                          0.4,
                          "#fde0ef"
                        ],
                        [
                          0.5,
                          "#f7f7f7"
                        ],
                        [
                          0.6,
                          "#e6f5d0"
                        ],
                        [
                          0.7,
                          "#b8e186"
                        ],
                        [
                          0.8,
                          "#7fbc41"
                        ],
                        [
                          0.9,
                          "#4d9221"
                        ],
                        [
                          1,
                          "#276419"
                        ]
                      ],
                      "sequential": [
                        [
                          0,
                          "#0d0887"
                        ],
                        [
                          0.1111111111111111,
                          "#46039f"
                        ],
                        [
                          0.2222222222222222,
                          "#7201a8"
                        ],
                        [
                          0.3333333333333333,
                          "#9c179e"
                        ],
                        [
                          0.4444444444444444,
                          "#bd3786"
                        ],
                        [
                          0.5555555555555556,
                          "#d8576b"
                        ],
                        [
                          0.6666666666666666,
                          "#ed7953"
                        ],
                        [
                          0.7777777777777778,
                          "#fb9f3a"
                        ],
                        [
                          0.8888888888888888,
                          "#fdca26"
                        ],
                        [
                          1,
                          "#f0f921"
                        ]
                      ],
                      "sequentialminus": [
                        [
                          0,
                          "#0d0887"
                        ],
                        [
                          0.1111111111111111,
                          "#46039f"
                        ],
                        [
                          0.2222222222222222,
                          "#7201a8"
                        ],
                        [
                          0.3333333333333333,
                          "#9c179e"
                        ],
                        [
                          0.4444444444444444,
                          "#bd3786"
                        ],
                        [
                          0.5555555555555556,
                          "#d8576b"
                        ],
                        [
                          0.6666666666666666,
                          "#ed7953"
                        ],
                        [
                          0.7777777777777778,
                          "#fb9f3a"
                        ],
                        [
                          0.8888888888888888,
                          "#fdca26"
                        ],
                        [
                          1,
                          "#f0f921"
                        ]
                      ]
                    },
                    "colorway": [
                      "#636efa",
                      "#EF553B",
                      "#00cc96",
                      "#ab63fa",
                      "#FFA15A",
                      "#19d3f3",
                      "#FF6692",
                      "#B6E880",
                      "#FF97FF",
                      "#FECB52"
                    ],
                    "font": {
                      "color": "#2a3f5f"
                    },
                    "geo": {
                      "bgcolor": "white",
                      "lakecolor": "white",
                      "landcolor": "#E5ECF6",
                      "showlakes": true,
                      "showland": true,
                      "subunitcolor": "white"
                    },
                    "hoverlabel": {
                      "align": "left"
                    },
                    "hovermode": "closest",
                    "mapbox": {
                      "style": "light"
                    },
                    "paper_bgcolor": "white",
                    "plot_bgcolor": "#E5ECF6",
                    "polar": {
                      "angularaxis": {
                        "gridcolor": "white",
                        "linecolor": "white",
                        "ticks": ""
                      },
                      "bgcolor": "#E5ECF6",
                      "radialaxis": {
                        "gridcolor": "white",
                        "linecolor": "white",
                        "ticks": ""
                      }
                    },
                    "scene": {
                      "xaxis": {
                        "backgroundcolor": "#E5ECF6",
                        "gridcolor": "white",
                        "gridwidth": 2,
                        "linecolor": "white",
                        "showbackground": true,
                        "ticks": "",
                        "zerolinecolor": "white"
                      },
                      "yaxis": {
                        "backgroundcolor": "#E5ECF6",
                        "gridcolor": "white",
                        "gridwidth": 2,
                        "linecolor": "white",
                        "showbackground": true,
                        "ticks": "",
                        "zerolinecolor": "white"
                      },
                      "zaxis": {
                        "backgroundcolor": "#E5ECF6",
                        "gridcolor": "white",
                        "gridwidth": 2,
                        "linecolor": "white",
                        "showbackground": true,
                        "ticks": "",
                        "zerolinecolor": "white"
                      }
                    },
                    "shapedefaults": {
                      "line": {
                        "color": "#2a3f5f"
                      }
                    },
                    "ternary": {
                      "aaxis": {
                        "gridcolor": "white",
                        "linecolor": "white",
                        "ticks": ""
                      },
                      "baxis": {
                        "gridcolor": "white",
                        "linecolor": "white",
                        "ticks": ""
                      },
                      "bgcolor": "#E5ECF6",
                      "caxis": {
                        "gridcolor": "white",
                        "linecolor": "white",
                        "ticks": ""
                      }
                    },
                    "title": {
                      "x": 0.05
                    },
                    "xaxis": {
                      "automargin": true,
                      "gridcolor": "white",
                      "linecolor": "white",
                      "ticks": "",
                      "title": {
                        "standoff": 15
                      },
                      "zerolinecolor": "white",
                      "zerolinewidth": 2
                    },
                    "yaxis": {
                      "automargin": true,
                      "gridcolor": "white",
                      "linecolor": "white",
                      "ticks": "",
                      "title": {
                        "standoff": 15
                      },
                      "zerolinecolor": "white",
                      "zerolinewidth": 2
                    }
                  }
                },
                "title": {
                  "text": "Distribuição de tempo de contrato (em meses) por evasão de clientes"
                },
                "xaxis": {
                  "anchor": "y",
                  "domain": [
                    0,
                    1
                  ],
                  "title": {
                    "text": "Meses_Contrato"
                  }
                },
                "yaxis": {
                  "anchor": "x",
                  "domain": [
                    0,
                    1
                  ]
                }
              }
            }
          },
          "metadata": {},
          "output_type": "display_data"
        },
        {
          "data": {
            "application/vnd.plotly.v1+json": {
              "config": {
                "plotlyServerURL": "https://plot.ly"
              },
              "data": [
                {
                  "alignmentgroup": "True",
                  "hovertemplate": "Churn=0<br>Contas_Geral=%{x}<extra></extra>",
                  "legendgroup": "0",
                  "marker": {
                    "color": "#636efa"
                  },
                  "name": "0",
                  "notched": false,
                  "offsetgroup": "0",
                  "orientation": "h",
                  "showlegend": true,
                  "type": "box",
                  "x": {
                    "bdata": "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",
                    "dtype": "f8"
                  },
                  "x0": " ",
                  "xaxis": "x",
                  "y0": " ",
                  "yaxis": "y"
                },
                {
                  "alignmentgroup": "True",
                  "hovertemplate": "Churn=1<br>Contas_Geral=%{x}<extra></extra>",
                  "legendgroup": "1",
                  "marker": {
                    "color": "#EF553B"
                  },
                  "name": "1",
                  "notched": false,
                  "offsetgroup": "1",
                  "orientation": "h",
                  "showlegend": true,
                  "type": "box",
                  "x": {
                    "bdata": "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",
                    "dtype": "f8"
                  },
                  "x0": " ",
                  "xaxis": "x",
                  "y0": " ",
                  "yaxis": "y"
                }
              ],
              "layout": {
                "boxmode": "group",
                "legend": {
                  "title": {
                    "text": "Churn"
                  },
                  "tracegroupgap": 0
                },
                "template": {
                  "data": {
                    "bar": [
                      {
                        "error_x": {
                          "color": "#2a3f5f"
                        },
                        "error_y": {
                          "color": "#2a3f5f"
                        },
                        "marker": {
                          "line": {
                            "color": "#E5ECF6",
                            "width": 0.5
                          },
                          "pattern": {
                            "fillmode": "overlay",
                            "size": 10,
                            "solidity": 0.2
                          }
                        },
                        "type": "bar"
                      }
                    ],
                    "barpolar": [
                      {
                        "marker": {
                          "line": {
                            "color": "#E5ECF6",
                            "width": 0.5
                          },
                          "pattern": {
                            "fillmode": "overlay",
                            "size": 10,
                            "solidity": 0.2
                          }
                        },
                        "type": "barpolar"
                      }
                    ],
                    "carpet": [
                      {
                        "aaxis": {
                          "endlinecolor": "#2a3f5f",
                          "gridcolor": "white",
                          "linecolor": "white",
                          "minorgridcolor": "white",
                          "startlinecolor": "#2a3f5f"
                        },
                        "baxis": {
                          "endlinecolor": "#2a3f5f",
                          "gridcolor": "white",
                          "linecolor": "white",
                          "minorgridcolor": "white",
                          "startlinecolor": "#2a3f5f"
                        },
                        "type": "carpet"
                      }
                    ],
                    "choropleth": [
                      {
                        "colorbar": {
                          "outlinewidth": 0,
                          "ticks": ""
                        },
                        "type": "choropleth"
                      }
                    ],
                    "contour": [
                      {
                        "colorbar": {
                          "outlinewidth": 0,
                          "ticks": ""
                        },
                        "colorscale": [
                          [
                            0,
                            "#0d0887"
                          ],
                          [
                            0.1111111111111111,
                            "#46039f"
                          ],
                          [
                            0.2222222222222222,
                            "#7201a8"
                          ],
                          [
                            0.3333333333333333,
                            "#9c179e"
                          ],
                          [
                            0.4444444444444444,
                            "#bd3786"
                          ],
                          [
                            0.5555555555555556,
                            "#d8576b"
                          ],
                          [
                            0.6666666666666666,
                            "#ed7953"
                          ],
                          [
                            0.7777777777777778,
                            "#fb9f3a"
                          ],
                          [
                            0.8888888888888888,
                            "#fdca26"
                          ],
                          [
                            1,
                            "#f0f921"
                          ]
                        ],
                        "type": "contour"
                      }
                    ],
                    "contourcarpet": [
                      {
                        "colorbar": {
                          "outlinewidth": 0,
                          "ticks": ""
                        },
                        "type": "contourcarpet"
                      }
                    ],
                    "heatmap": [
                      {
                        "colorbar": {
                          "outlinewidth": 0,
                          "ticks": ""
                        },
                        "colorscale": [
                          [
                            0,
                            "#0d0887"
                          ],
                          [
                            0.1111111111111111,
                            "#46039f"
                          ],
                          [
                            0.2222222222222222,
                            "#7201a8"
                          ],
                          [
                            0.3333333333333333,
                            "#9c179e"
                          ],
                          [
                            0.4444444444444444,
                            "#bd3786"
                          ],
                          [
                            0.5555555555555556,
                            "#d8576b"
                          ],
                          [
                            0.6666666666666666,
                            "#ed7953"
                          ],
                          [
                            0.7777777777777778,
                            "#fb9f3a"
                          ],
                          [
                            0.8888888888888888,
                            "#fdca26"
                          ],
                          [
                            1,
                            "#f0f921"
                          ]
                        ],
                        "type": "heatmap"
                      }
                    ],
                    "histogram": [
                      {
                        "marker": {
                          "pattern": {
                            "fillmode": "overlay",
                            "size": 10,
                            "solidity": 0.2
                          }
                        },
                        "type": "histogram"
                      }
                    ],
                    "histogram2d": [
                      {
                        "colorbar": {
                          "outlinewidth": 0,
                          "ticks": ""
                        },
                        "colorscale": [
                          [
                            0,
                            "#0d0887"
                          ],
                          [
                            0.1111111111111111,
                            "#46039f"
                          ],
                          [
                            0.2222222222222222,
                            "#7201a8"
                          ],
                          [
                            0.3333333333333333,
                            "#9c179e"
                          ],
                          [
                            0.4444444444444444,
                            "#bd3786"
                          ],
                          [
                            0.5555555555555556,
                            "#d8576b"
                          ],
                          [
                            0.6666666666666666,
                            "#ed7953"
                          ],
                          [
                            0.7777777777777778,
                            "#fb9f3a"
                          ],
                          [
                            0.8888888888888888,
                            "#fdca26"
                          ],
                          [
                            1,
                            "#f0f921"
                          ]
                        ],
                        "type": "histogram2d"
                      }
                    ],
                    "histogram2dcontour": [
                      {
                        "colorbar": {
                          "outlinewidth": 0,
                          "ticks": ""
                        },
                        "colorscale": [
                          [
                            0,
                            "#0d0887"
                          ],
                          [
                            0.1111111111111111,
                            "#46039f"
                          ],
                          [
                            0.2222222222222222,
                            "#7201a8"
                          ],
                          [
                            0.3333333333333333,
                            "#9c179e"
                          ],
                          [
                            0.4444444444444444,
                            "#bd3786"
                          ],
                          [
                            0.5555555555555556,
                            "#d8576b"
                          ],
                          [
                            0.6666666666666666,
                            "#ed7953"
                          ],
                          [
                            0.7777777777777778,
                            "#fb9f3a"
                          ],
                          [
                            0.8888888888888888,
                            "#fdca26"
                          ],
                          [
                            1,
                            "#f0f921"
                          ]
                        ],
                        "type": "histogram2dcontour"
                      }
                    ],
                    "mesh3d": [
                      {
                        "colorbar": {
                          "outlinewidth": 0,
                          "ticks": ""
                        },
                        "type": "mesh3d"
                      }
                    ],
                    "parcoords": [
                      {
                        "line": {
                          "colorbar": {
                            "outlinewidth": 0,
                            "ticks": ""
                          }
                        },
                        "type": "parcoords"
                      }
                    ],
                    "pie": [
                      {
                        "automargin": true,
                        "type": "pie"
                      }
                    ],
                    "scatter": [
                      {
                        "fillpattern": {
                          "fillmode": "overlay",
                          "size": 10,
                          "solidity": 0.2
                        },
                        "type": "scatter"
                      }
                    ],
                    "scatter3d": [
                      {
                        "line": {
                          "colorbar": {
                            "outlinewidth": 0,
                            "ticks": ""
                          }
                        },
                        "marker": {
                          "colorbar": {
                            "outlinewidth": 0,
                            "ticks": ""
                          }
                        },
                        "type": "scatter3d"
                      }
                    ],
                    "scattercarpet": [
                      {
                        "marker": {
                          "colorbar": {
                            "outlinewidth": 0,
                            "ticks": ""
                          }
                        },
                        "type": "scattercarpet"
                      }
                    ],
                    "scattergeo": [
                      {
                        "marker": {
                          "colorbar": {
                            "outlinewidth": 0,
                            "ticks": ""
                          }
                        },
                        "type": "scattergeo"
                      }
                    ],
                    "scattergl": [
                      {
                        "marker": {
                          "colorbar": {
                            "outlinewidth": 0,
                            "ticks": ""
                          }
                        },
                        "type": "scattergl"
                      }
                    ],
                    "scattermap": [
                      {
                        "marker": {
                          "colorbar": {
                            "outlinewidth": 0,
                            "ticks": ""
                          }
                        },
                        "type": "scattermap"
                      }
                    ],
                    "scattermapbox": [
                      {
                        "marker": {
                          "colorbar": {
                            "outlinewidth": 0,
                            "ticks": ""
                          }
                        },
                        "type": "scattermapbox"
                      }
                    ],
                    "scatterpolar": [
                      {
                        "marker": {
                          "colorbar": {
                            "outlinewidth": 0,
                            "ticks": ""
                          }
                        },
                        "type": "scatterpolar"
                      }
                    ],
                    "scatterpolargl": [
                      {
                        "marker": {
                          "colorbar": {
                            "outlinewidth": 0,
                            "ticks": ""
                          }
                        },
                        "type": "scatterpolargl"
                      }
                    ],
                    "scatterternary": [
                      {
                        "marker": {
                          "colorbar": {
                            "outlinewidth": 0,
                            "ticks": ""
                          }
                        },
                        "type": "scatterternary"
                      }
                    ],
                    "surface": [
                      {
                        "colorbar": {
                          "outlinewidth": 0,
                          "ticks": ""
                        },
                        "colorscale": [
                          [
                            0,
                            "#0d0887"
                          ],
                          [
                            0.1111111111111111,
                            "#46039f"
                          ],
                          [
                            0.2222222222222222,
                            "#7201a8"
                          ],
                          [
                            0.3333333333333333,
                            "#9c179e"
                          ],
                          [
                            0.4444444444444444,
                            "#bd3786"
                          ],
                          [
                            0.5555555555555556,
                            "#d8576b"
                          ],
                          [
                            0.6666666666666666,
                            "#ed7953"
                          ],
                          [
                            0.7777777777777778,
                            "#fb9f3a"
                          ],
                          [
                            0.8888888888888888,
                            "#fdca26"
                          ],
                          [
                            1,
                            "#f0f921"
                          ]
                        ],
                        "type": "surface"
                      }
                    ],
                    "table": [
                      {
                        "cells": {
                          "fill": {
                            "color": "#EBF0F8"
                          },
                          "line": {
                            "color": "white"
                          }
                        },
                        "header": {
                          "fill": {
                            "color": "#C8D4E3"
                          },
                          "line": {
                            "color": "white"
                          }
                        },
                        "type": "table"
                      }
                    ]
                  },
                  "layout": {
                    "annotationdefaults": {
                      "arrowcolor": "#2a3f5f",
                      "arrowhead": 0,
                      "arrowwidth": 1
                    },
                    "autotypenumbers": "strict",
                    "coloraxis": {
                      "colorbar": {
                        "outlinewidth": 0,
                        "ticks": ""
                      }
                    },
                    "colorscale": {
                      "diverging": [
                        [
                          0,
                          "#8e0152"
                        ],
                        [
                          0.1,
                          "#c51b7d"
                        ],
                        [
                          0.2,
                          "#de77ae"
                        ],
                        [
                          0.3,
                          "#f1b6da"
                        ],
                        [
                          0.4,
                          "#fde0ef"
                        ],
                        [
                          0.5,
                          "#f7f7f7"
                        ],
                        [
                          0.6,
                          "#e6f5d0"
                        ],
                        [
                          0.7,
                          "#b8e186"
                        ],
                        [
                          0.8,
                          "#7fbc41"
                        ],
                        [
                          0.9,
                          "#4d9221"
                        ],
                        [
                          1,
                          "#276419"
                        ]
                      ],
                      "sequential": [
                        [
                          0,
                          "#0d0887"
                        ],
                        [
                          0.1111111111111111,
                          "#46039f"
                        ],
                        [
                          0.2222222222222222,
                          "#7201a8"
                        ],
                        [
                          0.3333333333333333,
                          "#9c179e"
                        ],
                        [
                          0.4444444444444444,
                          "#bd3786"
                        ],
                        [
                          0.5555555555555556,
                          "#d8576b"
                        ],
                        [
                          0.6666666666666666,
                          "#ed7953"
                        ],
                        [
                          0.7777777777777778,
                          "#fb9f3a"
                        ],
                        [
                          0.8888888888888888,
                          "#fdca26"
                        ],
                        [
                          1,
                          "#f0f921"
                        ]
                      ],
                      "sequentialminus": [
                        [
                          0,
                          "#0d0887"
                        ],
                        [
                          0.1111111111111111,
                          "#46039f"
                        ],
                        [
                          0.2222222222222222,
                          "#7201a8"
                        ],
                        [
                          0.3333333333333333,
                          "#9c179e"
                        ],
                        [
                          0.4444444444444444,
                          "#bd3786"
                        ],
                        [
                          0.5555555555555556,
                          "#d8576b"
                        ],
                        [
                          0.6666666666666666,
                          "#ed7953"
                        ],
                        [
                          0.7777777777777778,
                          "#fb9f3a"
                        ],
                        [
                          0.8888888888888888,
                          "#fdca26"
                        ],
                        [
                          1,
                          "#f0f921"
                        ]
                      ]
                    },
                    "colorway": [
                      "#636efa",
                      "#EF553B",
                      "#00cc96",
                      "#ab63fa",
                      "#FFA15A",
                      "#19d3f3",
                      "#FF6692",
                      "#B6E880",
                      "#FF97FF",
                      "#FECB52"
                    ],
                    "font": {
                      "color": "#2a3f5f"
                    },
                    "geo": {
                      "bgcolor": "white",
                      "lakecolor": "white",
                      "landcolor": "#E5ECF6",
                      "showlakes": true,
                      "showland": true,
                      "subunitcolor": "white"
                    },
                    "hoverlabel": {
                      "align": "left"
                    },
                    "hovermode": "closest",
                    "mapbox": {
                      "style": "light"
                    },
                    "paper_bgcolor": "white",
                    "plot_bgcolor": "#E5ECF6",
                    "polar": {
                      "angularaxis": {
                        "gridcolor": "white",
                        "linecolor": "white",
                        "ticks": ""
                      },
                      "bgcolor": "#E5ECF6",
                      "radialaxis": {
                        "gridcolor": "white",
                        "linecolor": "white",
                        "ticks": ""
                      }
                    },
                    "scene": {
                      "xaxis": {
                        "backgroundcolor": "#E5ECF6",
                        "gridcolor": "white",
                        "gridwidth": 2,
                        "linecolor": "white",
                        "showbackground": true,
                        "ticks": "",
                        "zerolinecolor": "white"
                      },
                      "yaxis": {
                        "backgroundcolor": "#E5ECF6",
                        "gridcolor": "white",
                        "gridwidth": 2,
                        "linecolor": "white",
                        "showbackground": true,
                        "ticks": "",
                        "zerolinecolor": "white"
                      },
                      "zaxis": {
                        "backgroundcolor": "#E5ECF6",
                        "gridcolor": "white",
                        "gridwidth": 2,
                        "linecolor": "white",
                        "showbackground": true,
                        "ticks": "",
                        "zerolinecolor": "white"
                      }
                    },
                    "shapedefaults": {
                      "line": {
                        "color": "#2a3f5f"
                      }
                    },
                    "ternary": {
                      "aaxis": {
                        "gridcolor": "white",
                        "linecolor": "white",
                        "ticks": ""
                      },
                      "baxis": {
                        "gridcolor": "white",
                        "linecolor": "white",
                        "ticks": ""
                      },
                      "bgcolor": "#E5ECF6",
                      "caxis": {
                        "gridcolor": "white",
                        "linecolor": "white",
                        "ticks": ""
                      }
                    },
                    "title": {
                      "x": 0.05
                    },
                    "xaxis": {
                      "automargin": true,
                      "gridcolor": "white",
                      "linecolor": "white",
                      "ticks": "",
                      "title": {
                        "standoff": 15
                      },
                      "zerolinecolor": "white",
                      "zerolinewidth": 2
                    },
                    "yaxis": {
                      "automargin": true,
                      "gridcolor": "white",
                      "linecolor": "white",
                      "ticks": "",
                      "title": {
                        "standoff": 15
                      },
                      "zerolinecolor": "white",
                      "zerolinewidth": 2
                    }
                  }
                },
                "title": {
                  "text": "Distribuição de gastos totais de clientes por evasão"
                },
                "xaxis": {
                  "anchor": "y",
                  "domain": [
                    0,
                    1
                  ],
                  "title": {
                    "text": "Contas_Geral"
                  }
                },
                "yaxis": {
                  "anchor": "x",
                  "domain": [
                    0,
                    1
                  ]
                }
              }
            }
          },
          "metadata": {},
          "output_type": "display_data"
        }
      ],
      "source": [
        "fig0 = px.box(df, x=\"Meses_Contrato\", color=\"Churn\", title=\"Distribuição de tempo de contrato (em meses) por evasão de clientes\")\n",
        "\n",
        "fig0.show()\n",
        "\n",
        "fig1 = px.box(df, x=\"Contas_Geral\", color=\"Churn\", title=\"Distribuição de gastos totais de clientes por evasão\")\n",
        "\n",
        "fig1.show()"
      ]
    },
    {
      "cell_type": "markdown",
      "metadata": {
        "id": "MBbtQ2Hcdbx2"
      },
      "source": [
        "# Separação de dados\n",
        "\n",
        "\n",
        "---\n",
        "\n",
        "Utilizando o método Holdout, numa proporção de 70% do conjunto para treino e 30% para teste."
      ]
    },
    {
      "cell_type": "code",
      "execution_count": 63,
      "metadata": {
        "id": "nRMUf2wxze8R"
      },
      "outputs": [],
      "source": [
        "# Stratify mantém a proporção de dados, random_state para reprodutibilidade\n",
        "X_train, X_test, y_train, y_test = train_test_split(x, y, test_size = 0.30, stratify = y, random_state = 1)"
      ]
    },
    {
      "cell_type": "markdown",
      "metadata": {
        "id": "9FT7W_uadw4H"
      },
      "source": [
        "# Normalização\n",
        "\n",
        "\n",
        "---\n",
        "\n",
        "O método escolhido para normalização foi o Z-Score. Definido por:\n",
        "\n",
        "$$z = \\frac{x - \\mu}{\\sigma}$$\n",
        "\n",
        "Onde:\n",
        "  - x = Amostra do conjunto\n",
        "  - $\\mu$ = Média do conjunto\n",
        "  - $\\sigma$ = Desvio padrão do conjunto\n",
        "\n",
        "A classe *StandardScaler* do *sklearn.preprocessing* permite criar objetos que aprendem os parâmetros de normalização (como média e desvio padrão) a partir dos dados de treino, e reutilizá-los para transformar novos dados de forma consistente em outras etapas do algoritmo."
      ]
    },
    {
      "cell_type": "code",
      "execution_count": 64,
      "metadata": {
        "id": "rX2YO6sTd4Si"
      },
      "outputs": [],
      "source": [
        "scaler = StandardScaler()\n",
        "\n",
        "# Ajuste da normalização\n",
        "X_train_scaled = scaler.fit_transform(X_train)\n",
        "\n",
        "# Reutilização para normalização dos dados de teste\n",
        "X_test_scaled = scaler.transform(X_test)"
      ]
    },
    {
      "cell_type": "markdown",
      "metadata": {
        "id": "ysPaW7YjdyuL"
      },
      "source": [
        "# Balanceamento de Classes\n",
        "\n",
        "\n",
        "---\n",
        "\n",
        "Como pode ser visto abaixo, os dados apresentam um desbalanceamento considerável entre às classes da váriavel alvo. Que pode afetar o desempenho do modelo."
      ]
    },
    {
      "cell_type": "code",
      "execution_count": 65,
      "metadata": {
        "colab": {
          "base_uri": "https://localhost:8080/"
        },
        "id": "BffoPsP0mEGn",
        "outputId": "96a37149-1b99-4c5d-d5d3-a0fd79dd928a"
      },
      "outputs": [
        {
          "name": "stdout",
          "output_type": "stream",
          "text": [
            "Total:\n",
            "Evasão = [0 1]\n",
            "Contagem = [5163 1869]\n"
          ]
        }
      ],
      "source": [
        "print('Total:')\n",
        "print('Evasão =',np.unique(y, return_counts=True)[0])\n",
        "print('Contagem =',np.unique(y, return_counts=True)[1])"
      ]
    },
    {
      "cell_type": "code",
      "execution_count": 66,
      "metadata": {
        "colab": {
          "base_uri": "https://localhost:8080/"
        },
        "id": "JoX96BNRlH6F",
        "outputId": "2eeba593-a1d2-4fc3-ec59-217c6cdf324a"
      },
      "outputs": [
        {
          "name": "stdout",
          "output_type": "stream",
          "text": [
            "Conjunto de treino:\n",
            "Evasão = [0 1]\n",
            "Contagem = [3614 1308]\n"
          ]
        }
      ],
      "source": [
        "print('Conjunto de treino:')\n",
        "print('Evasão =',np.unique(y_train, return_counts=True)[0])\n",
        "print('Contagem =',np.unique(y_train, return_counts=True)[1])"
      ]
    },
    {
      "cell_type": "markdown",
      "metadata": {
        "id": "pv-sYzJymZf5"
      },
      "source": [
        "## Undersampling e NearMiss\n",
        "\n",
        "O método utilizado para mitigar esse questão foi o Undersampling, consistindo em reduzir a quantidade de dados da classe que possui maior frequência até que tenha a mesma quantidade da classe de menor frequência.\n",
        "\n",
        "Utilizando a técnica NearMiss, as amostra escolhidas são de um padrão bem parecido com os elementos que já existem na outra classe. Assim, o modelo pode identificar em nuances qual é a diferença de uma classe para a outra."
      ]
    },
    {
      "cell_type": "code",
      "execution_count": 67,
      "metadata": {
        "id": "47kaluR4d6pC"
      },
      "outputs": [],
      "source": [
        "# Versão 3 do NearMiss\n",
        "undersample = NearMiss(version=3)\n",
        "\n",
        "# Aplicado sobre os dados normalizados\n",
        "X_balanceado, y_balanceado = undersample.fit_resample(X_train_scaled, y_train)"
      ]
    },
    {
      "cell_type": "markdown",
      "metadata": {
        "id": "y-TcFiHsd8V9"
      },
      "source": [
        "# Modelos\n",
        "\n",
        "---\n",
        "\n",
        "Os modelos selecionados foram: Regressão Lógistica e Árvore de Decisão."
      ]
    },
    {
      "cell_type": "markdown",
      "metadata": {
        "id": "wxGJ4vtrrmZ-"
      },
      "source": [
        "## GridSearchCV e Validação Cruzada\n",
        "\n",
        "Para otimização de hiperparâmetros dos modelos foi utilizado o GridSearchCV em conjunto com a estratégia de validação cruzada, buscando evitar padrões no dataset de treinamento."
      ]
    },
    {
      "cell_type": "code",
      "execution_count": 68,
      "metadata": {
        "id": "bgb_ypQSvJw2"
      },
      "outputs": [],
      "source": [
        "# Validação cruzada do tipo StratifiedKFold, que considera a proporção dos dados.\n",
        "skf = StratifiedKFold(n_splits = 5, shuffle = True, random_state = 5)"
      ]
    },
    {
      "cell_type": "code",
      "execution_count": 69,
      "metadata": {
        "colab": {
          "base_uri": "https://localhost:8080/"
        },
        "id": "w6z_GC2qoWRT",
        "outputId": "05c37d72-3707-474a-fd12-de9a653b2f60"
      },
      "outputs": [
        {
          "data": {
            "text/plain": [
              "{'max_depth': 5, 'min_samples_leaf': 8, 'min_samples_split': 2}"
            ]
          },
          "execution_count": 69,
          "metadata": {},
          "output_type": "execute_result"
        }
      ],
      "source": [
        "# Hiperparâmetros para Árvore de Decisão\n",
        "\n",
        "param_grid = {\n",
        "    'max_depth': [None, 5, 10, 15, 20, 30],\n",
        "    'min_samples_leaf': [1, 2, 4, 6, 8, 10],\n",
        "    'min_samples_split': [2, 5, 10, 15, 20]\n",
        "    }\n",
        "\n",
        "model_grid = GridSearchCV(DecisionTreeClassifier(random_state=42), param_grid=param_grid, scoring='precision', cv=skf)\n",
        "\n",
        "model_grid.fit(X_balanceado, y_balanceado)\n",
        "\n",
        "model_grid.best_params_"
      ]
    },
    {
      "cell_type": "code",
      "execution_count": 70,
      "metadata": {
        "colab": {
          "base_uri": "https://localhost:8080/"
        },
        "id": "f1AhzQka_0xJ",
        "outputId": "bd175ba0-376d-4ecb-84b0-b1df42eb3f41"
      },
      "outputs": [
        {
          "data": {
            "text/plain": [
              "{'max_iter': 1000}"
            ]
          },
          "execution_count": 70,
          "metadata": {},
          "output_type": "execute_result"
        }
      ],
      "source": [
        "# Hiperparâmetros para Regressão Logística\n",
        "\n",
        "param_grid = {\n",
        "    'max_iter': [1000, 2000, 3000, 4000, 5000]\n",
        "    }\n",
        "\n",
        "skf = StratifiedKFold(n_splits = 5, shuffle = True, random_state = 5)\n",
        "\n",
        "model_grid = GridSearchCV(LogisticRegression(random_state=42), param_grid=param_grid, scoring='precision', cv=skf)\n",
        "\n",
        "model_grid.fit(X_balanceado, y_balanceado)\n",
        "\n",
        "model_grid.best_params_"
      ]
    },
    {
      "cell_type": "markdown",
      "metadata": {
        "id": "aWb-_nFG2scO"
      },
      "source": [
        "## Métricas dos modelos em validação cruzada\n",
        "\n",
        "Para avaliar as métricas dos modelos com os Hiperparâmetros gerados pelo GridSearchCV, foi utilizado *cross_validate* do *sklearn.model_selection* em conjunto com o StratifiedKFold definido anteriormente.\n",
        "\n",
        "Essa abordagem leva em consideração todo o conjunto de dados com 'Churn' desbalanceado, buscando refletir as proporções reais dos dados."
      ]
    },
    {
      "cell_type": "code",
      "execution_count": 71,
      "metadata": {
        "colab": {
          "base_uri": "https://localhost:8080/"
        },
        "id": "d1hhylg3-bwm",
        "outputId": "6187d6d6-0432-44fb-f56b-6d5d46c297f2"
      },
      "outputs": [
        {
          "name": "stdout",
          "output_type": "stream",
          "text": [
            "accuracy: 0.757\n",
            "precision: 0.533\n",
            "recall: 0.697\n",
            "f1: 0.604\n",
            "roc_auc: 0.806\n"
          ]
        }
      ],
      "source": [
        "scoring = ['accuracy', 'precision', 'recall', 'f1', 'roc_auc'] # Métricas\n",
        "\n",
        "modelo = DecisionTreeClassifier(\n",
        "    max_depth = 5,\n",
        "    min_samples_leaf = 8,\n",
        "    min_samples_split = 2,\n",
        "    random_state=1\n",
        "    )\n",
        "\n",
        "pipeline = imbpipeline([('undersample', NearMiss(version=3)), ('arvore', modelo)])\n",
        "\n",
        "resultados_tree = cross_validate(pipeline, x, y, cv=skf, scoring = scoring)\n",
        "\n",
        "for metric in scoring:\n",
        "    print(f\"{metric}: {resultados_tree['test_' + metric].mean():.3f}\")"
      ]
    },
    {
      "cell_type": "code",
      "execution_count": 72,
      "metadata": {
        "colab": {
          "base_uri": "https://localhost:8080/"
        },
        "id": "Qo0plH_k4mUz",
        "outputId": "f5602736-8ee1-4115-e842-d3bbc98e27fb"
      },
      "outputs": [
        {
          "name": "stdout",
          "output_type": "stream",
          "text": [
            "accuracy: 0.742\n",
            "precision: 0.511\n",
            "recall: 0.758\n",
            "f1: 0.610\n",
            "roc_auc: 0.825\n"
          ]
        }
      ],
      "source": [
        "modelo = LogisticRegression(random_state=42, max_iter=5000) # max_iter ampliado para output limpo\n",
        "\n",
        "pipeline = imbpipeline([('undersample', NearMiss(version=3)), ('log_reg', modelo)])\n",
        "\n",
        "resultados_logreg = cross_validate(pipeline, x, y, cv=skf, scoring = scoring)\n",
        "\n",
        "for metric in scoring:\n",
        "    print(f\"{metric}: {resultados_logreg['test_' + metric].mean():.3f}\")"
      ]
    },
    {
      "cell_type": "markdown",
      "metadata": {
        "id": "y2yNjvWH5EzM"
      },
      "source": [
        "# Criação dos modelos finais e avaliação\n",
        "\n",
        "\n",
        "---\n",
        "\n",
        "Três modelos foram criados:\n",
        "\n",
        "- DummyClassifier: Modelo de classificação base, definição de um críterio de comparação inicial.\n",
        "\n",
        "- DecisionTreeClassifier: Modelo de classificação por árvore de decisão.\n",
        "\n",
        "- LogisticRegression: Modelo de classificação por Regressão Logística.\n",
        "\n",
        "A matrix de confusão, o *classification_report* (que constroi um relatório demonstrando as principais métricas de classificação) e o cálculo de ROC AUC (*roc_auc_score*) foram utilizados em cada um dos modelos.\n",
        "\n",
        "A escolha dos modelos se deu devido a facilidade de treinamento e ajuste, além de serem modelos clássicos de classificação onde ambos possuem uma documentação detalhada sobre seu funcionamento."
      ]
    },
    {
      "cell_type": "markdown",
      "metadata": {
        "id": "lqa_4MIyBUEY"
      },
      "source": [
        "\n",
        "---\n",
        "\n",
        "*Observação: Os dados de teste utilizados para avaliação dos modelos já estão normalizados. Para testes com outros conjuntos de dados é necessário aplicar a normalização antes ou a criação de uma pipeline que deve incluir o normalizador e o modelo.\n",
        "\n"
      ]
    },
    {
      "cell_type": "code",
      "execution_count": 73,
      "metadata": {
        "colab": {
          "base_uri": "https://localhost:8080/",
          "height": 694
        },
        "id": "2z1kO3O1mFSX",
        "outputId": "a3fcba22-0154-4165-b768-0edeb5642c4e"
      },
      "outputs": [
        {
          "name": "stdout",
          "output_type": "stream",
          "text": [
            "roc auc: 0.5 \n",
            "\n",
            "              precision    recall  f1-score   support\n",
            "\n",
            "           0       0.73      1.00      0.85      1549\n",
            "           1       0.00      0.00      0.00       561\n",
            "\n",
            "    accuracy                           0.73      2110\n",
            "   macro avg       0.37      0.50      0.42      2110\n",
            "weighted avg       0.54      0.73      0.62      2110\n",
            "\n"
          ]
        },
        {
          "data": {
            "image/png": "[encoded data removed]",
            "text/plain": [
              "<Figure size 800x550 with 2 Axes>"
            ]
          },
          "metadata": {},
          "output_type": "display_data"
        }
      ],
      "source": [
        "# Modelo Base\n",
        "\n",
        "# Treino\n",
        "dummy = DummyClassifier()\n",
        "dummy.fit(X_balanceado, y_balanceado)\n",
        "\n",
        "# Previsão\n",
        "y_previsto = dummy.predict(X_test_scaled)\n",
        "\n",
        "# Métricas\n",
        "print(\"roc auc:\", roc_auc_score(y_test, y_previsto), '\\n')\n",
        "print(classification_report(y_test, y_previsto,  zero_division=0))\n",
        "\n",
        "ConfusionMatrixDisplay.from_predictions(y_test, y_previsto);\n",
        "plt.grid(False)\n",
        "plt.show()"
      ]
    },
    {
      "cell_type": "code",
      "execution_count": 74,
      "metadata": {
        "colab": {
          "base_uri": "https://localhost:8080/",
          "height": 694
        },
        "id": "VOGvQvMJJpp5",
        "outputId": "431d87ad-8372-4966-a1d0-7d0685f7c4e5"
      },
      "outputs": [
        {
          "name": "stdout",
          "output_type": "stream",
          "text": [
            "roc auc: 0.6935329446057429 \n",
            "\n",
            "              precision    recall  f1-score   support\n",
            "\n",
            "           0       0.84      0.82      0.83      1549\n",
            "           1       0.53      0.57      0.55       561\n",
            "\n",
            "    accuracy                           0.75      2110\n",
            "   macro avg       0.68      0.69      0.69      2110\n",
            "weighted avg       0.76      0.75      0.75      2110\n",
            "\n"
          ]
        },
        {
          "data": {
            "image/png": "[encoded data removed]",
            "text/plain": [
              "<Figure size 800x550 with 2 Axes>"
            ]
          },
          "metadata": {},
          "output_type": "display_data"
        }
      ],
      "source": [
        "# Árvore de Decisão\n",
        "\n",
        "# Treino\n",
        "modelo_tree = DecisionTreeClassifier(max_depth = 5,\n",
        "                                min_samples_leaf = 8,\n",
        "                                min_samples_split = 2, random_state=1\n",
        "                                )\n",
        "\n",
        "modelo_tree.fit(X_balanceado, y_balanceado)\n",
        "\n",
        "# Previsão\n",
        "y_previsto = modelo_tree.predict(X_test_scaled)\n",
        "\n",
        "# Métricas\n",
        "print(\"roc auc:\", roc_auc_score(y_test, y_previsto), '\\n')\n",
        "print(classification_report(y_test, y_previsto))\n",
        "ConfusionMatrixDisplay.from_predictions(y_test, y_previsto);\n",
        "plt.grid(False)\n",
        "plt.show()"
      ]
    },
    {
      "cell_type": "code",
      "execution_count": 75,
      "metadata": {
        "colab": {
          "base_uri": "https://localhost:8080/",
          "height": 694
        },
        "id": "ZNpYszb5_M9z",
        "outputId": "dd0f3044-4325-4c04-cadb-0402d90fe471"
      },
      "outputs": [
        {
          "name": "stdout",
          "output_type": "stream",
          "text": [
            "roc auc: 0.7549387851860034 \n",
            "\n",
            "              precision    recall  f1-score   support\n",
            "\n",
            "           0       0.88      0.82      0.85      1549\n",
            "           1       0.58      0.69      0.63       561\n",
            "\n",
            "    accuracy                           0.79      2110\n",
            "   macro avg       0.73      0.75      0.74      2110\n",
            "weighted avg       0.80      0.79      0.79      2110\n",
            "\n"
          ]
        },
        {
          "data": {
            "image/png": "[encoded data removed]",
            "text/plain": [
              "<Figure size 800x550 with 2 Axes>"
            ]
          },
          "metadata": {},
          "output_type": "display_data"
        }
      ],
      "source": [
        "# Regressão Logística\n",
        "\n",
        "# Treino\n",
        "modelo_logreg = LogisticRegression(max_iter=1000, random_state=42)\n",
        "modelo_logreg.fit(X_balanceado, y_balanceado)\n",
        "\n",
        "# Previsão\n",
        "y_previsto = modelo_logreg.predict(X_test_scaled)\n",
        "\n",
        "# Métricas\n",
        "print(\"roc auc:\", roc_auc_score(y_test, y_previsto), '\\n')\n",
        "print(classification_report(y_test, y_previsto))\n",
        "ConfusionMatrixDisplay.from_predictions(y_test, y_previsto);\n",
        "plt.grid(False)\n",
        "plt.show()"
      ]
    },
    {
      "cell_type": "markdown",
      "metadata": {
        "id": "DqfB6XhVHShk"
      },
      "source": [
        "Ambos os modelos performaram de maneira semelhante, mas o modelo de **Regressão Lógistica** obteve o melhor desempenho.\n",
        "\n",
        "Quando comparamos as métricas entre os dois modelos principais ao modelo base é possível notar diferenças significativas em performance. Especialmente quando analisamos valores de **Precisão**, **Recall**, **F1-Score** e a curva **ROC-AUC**.\n",
        "\n",
        "É interessante destacar como a acurácia não é uma métrica ideal para a avaliação destes modelos, pois ela reflete a taxa de acerto geral, e nosso foco está na identificação de possíveis Churns.\n",
        "\n",
        "O modelo de regressão, porém, atingiu apenas 0.58 de precisão e 0.75 de ROC AUC para identificação de evasão."
      ]
    },
    {
      "cell_type": "markdown",
      "metadata": {
        "id": "qMwpqmMWMplD"
      },
      "source": [
        "# Análise de Importância das Variáveis\n",
        "\n",
        "\n",
        "\n",
        "---\n",
        "\n",
        "Abaixo é possível visualizar graficamente quais foram as variáveis mais relevantes para a previsão de evasão em cada modelo, utilizando o *FeatureImportances* do *yellowbrick.model_selection*."
      ]
    },
    {
      "cell_type": "markdown",
      "metadata": {
        "id": "rmH-yQChN742"
      },
      "source": [
        "## Árvore de Decisão\n",
        "\n",
        "Na Árvore de Decisão, as variáveis mais importantes são diretamentes exibidas. É possível identificar como apenas as 10 primeiras variáveis estão com graus relevantes de importância. Dentre elas o tempo de contrato em mês, contas geral e mensal e outros.\n",
        "\n",
        "Um caso de estudo para esse modelo é considerar a remoção de algumas dessas categorias não relevantes."
      ]
    },
    {
      "cell_type": "code",
      "execution_count": 76,
      "metadata": {
        "colab": {
          "base_uri": "https://localhost:8080/",
          "height": 568
        },
        "id": "qogXKeJu8KrG",
        "outputId": "aafbd7ed-c197-4548-b4d6-416e2df7958c"
      },
      "outputs": [
        {
          "data": {
            "image/png": "[encoded data removed]",
            "text/plain": [
              "<Figure size 800x550 with 1 Axes>"
            ]
          },
          "metadata": {},
          "output_type": "display_data"
        },
        {
          "data": {
            "text/plain": [
              "<Axes: title={'center': 'Feature Importances of 26 Features using DecisionTreeClassifier'}, xlabel='feature importance'>"
            ]
          },
          "execution_count": 76,
          "metadata": {},
          "output_type": "execute_result"
        }
      ],
      "source": [
        "viz = FeatureImportances(modelo_tree, relative=False)\n",
        "\n",
        "viz.fit(X_train, y_balanceado)\n",
        "viz.show()"
      ]
    },
    {
      "cell_type": "markdown",
      "metadata": {
        "id": "OYd7V-xQN2M3"
      },
      "source": [
        "## Regressão Logística\n",
        "\n",
        "Na Regressão Logística os dados exibidos são os coeficientes do modelo. Essa representação se assemelha visualmente a uma matriz de correlação, embora tenha um significado estatístico diferente.\n",
        "\n",
        "Nesta visualização, quanto mais próximo de 1 ou -1 estiver o coeficiente, maior é a influência da variável correspondente no modelo.\n",
        "\n",
        "Por exemplo, o tempo de contrato apresenta um coeficiente negativo, o que indica que quanto maior o tempo de contrato, menor é a chance da evasão do cliente."
      ]
    },
    {
      "cell_type": "code",
      "execution_count": 77,
      "metadata": {
        "colab": {
          "base_uri": "https://localhost:8080/",
          "height": 638
        },
        "id": "o1uR605G80VQ",
        "outputId": "f8ceb5b7-6df2-4793-9aeb-8545ec142e5f"
      },
      "outputs": [
        {
          "data": {
            "image/png": "[encoded data removed]",
            "text/plain": [
              "<Figure size 800x550 with 1 Axes>"
            ]
          },
          "metadata": {},
          "output_type": "display_data"
        },
        {
          "data": {
            "text/plain": [
              "<Axes: title={'center': 'Feature Importances of 26 Features using LogisticRegression'}, xlabel='coefficient value'>"
            ]
          },
          "execution_count": 77,
          "metadata": {},
          "output_type": "execute_result"
        }
      ],
      "source": [
        "viz = FeatureImportances(modelo_logreg, relative=False, stack=False)\n",
        "\n",
        "viz.fit(X_train, y_balanceado)\n",
        "viz.show()"
      ]
    },
    {
      "cell_type": "markdown",
      "metadata": {
        "id": "5UcM6YuhWJef"
      },
      "source": [
        "# Conclusão\n",
        "\n",
        "## Principais agravantes:\n",
        "\n",
        "Baseado nos resultados de ambos os modelos, os principais fatores relacionados a evasão de clientes são:\n",
        "\n",
        "<br>\n",
        "\n",
        "- **Tempo de contrato**\n",
        "  - Clientes com pouco tempo de contrato possuem uma maior tendência de Churn.\n",
        "\n",
        "\n",
        "- **Gastos mensais**\n",
        "  - Quanto maior o gasto mensal, maior a probabilidade de evasão.\n",
        "\n",
        "\n",
        "- **Assinatura de internet baseada em fibra óptica**\n",
        "  - Especialmente quando comparada a clientes sem nenhuma assinatura ou com tipo DSL.\n",
        "\n",
        "\n",
        "- **Cheques-eletrônicos**\n",
        "  - Clientes que utilizam esse meio de pagamento tem maior tendência a churn."
      ]
    },
    {
      "cell_type": "markdown",
      "metadata": {
        "id": "5x-OqG86ck7K"
      },
      "source": [
        "## Estratégias de retenção:\n",
        "\n",
        "Estratégias podem incluir, mas não apenas:\n",
        "\n",
        "<br>\n",
        "\n",
        "1. **Incentivar contratos de um ano;**\n",
        "\n",
        "  Os resultados dos modelos indicam uma menor probabilidade de Churn em clientes com maiores tempos de contratos, especialmente com o tipo de plano anual.\n",
        "\n",
        "2. **Revisão no preço e serviços de assinaturas;**\n",
        "\n",
        "  - Internet - Fibra óptica\n",
        "  - Telefônia - Multiplas linhas\n",
        "  - Tv-a-cabo\n",
        "\n",
        "3. **Ações específicas nos primeiros meses de contrato;**\n",
        "\n",
        "4. **Revisão dos meios de pagamento;**\n",
        "\n",
        "  - Cheques-eletrônicos e por e-mail."
      ]
    },
    {
      "cell_type": "markdown",
      "metadata": {
        "id": "0gNSwSNiWI4f"
      },
      "source": [
        "END"
      ]
    }
  ],
  "metadata": {
    "colab": {
      "provenance": []
    },
    "kernelspec": {
      "display_name": "Python 3",
      "name": "python3"
    },
    "language_info": {
      "codemirror_mode": {
        "name": "ipython",
        "version": 3
      },
      "file_extension": ".py",
      "mimetype": "text/x-python",
      "name": "python",
      "nbconvert_exporter": "python",
      "pygments_lexer": "ipython3",
      "version": "3.13.7"
    }
  },
  "nbformat": 4,
  "nbformat_minor": 0
}
